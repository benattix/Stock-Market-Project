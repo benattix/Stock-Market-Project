{
 "cells": [
  {
   "cell_type": "code",
   "execution_count": 1,
   "metadata": {
    "collapsed": false
   },
   "outputs": [],
   "source": [
    "import pandas as pd\n",
    "import numpy as np\n",
    "import matplotlib.pyplot as plt\n",
    "import matplotlib.cm\n",
    "import seaborn as sns\n",
    "from IPython.display import display\n",
    "import datetime\n",
    "import numpy as np\n",
    "from statsmodels import robust\n",
    "from sklearn import preprocessing\n",
    "from sklearn.preprocessing import Imputer\n",
    "from scipy import stats\n",
    "from scipy.stats import zscore"
   ]
  },
  {
   "cell_type": "code",
   "execution_count": 2,
   "metadata": {
    "code_folding": [
     0
    ],
    "collapsed": false
   },
   "outputs": [],
   "source": [
    "def null_ratio(df):\n",
    "        null_count = df.isnull().sum()\n",
    "        null_percent = 100 * df.isnull().sum()/len(df)\n",
    "        null_table = pd.concat([null_count, null_percent], axis=1)\n",
    "        null_table = null_table.rename(columns = {0 : 'Null Count', 1 : 'Null Percent'})\n",
    "        return null_table.sort_values('Null Percent', ascending=0)"
   ]
  },
  {
   "cell_type": "code",
   "execution_count": 3,
   "metadata": {
    "code_folding": [
     0,
     5
    ],
    "collapsed": true
   },
   "outputs": [],
   "source": [
    "def return_all_rows(x):\n",
    "    pd.set_option('display.max_rows', len(x))\n",
    "    return x\n",
    "    pd.reset_option('display.max_rows')\n",
    "    \n",
    "def return_all_columns(x):\n",
    "    pd.set_option('display.max_columns', len(x))\n",
    "    return x.head(5)\n",
    "    pd.reset_option('display.max_columns')"
   ]
  },
  {
   "cell_type": "code",
   "execution_count": 4,
   "metadata": {
    "code_folding": [
     0
    ],
    "collapsed": true
   },
   "outputs": [],
   "source": [
    "def overview(df):\n",
    "    print(\"Number of columns:\", len(df.columns))\n",
    "    print(\"Number of rows:\", len(df.index))\n",
    "    df.head(5)"
   ]
  },
  {
   "cell_type": "code",
   "execution_count": 5,
   "metadata": {
    "code_folding": [
     0
    ],
    "collapsed": true
   },
   "outputs": [],
   "source": [
    "def drop_dups(df):\n",
    "    # list comprehension of the cols that end with '_y'\n",
    "    y_drop = [x for x in df if x.endswith('_y')]\n",
    "    df.drop(y_drop, axis=1, inplace=True)"
   ]
  },
  {
   "cell_type": "code",
   "execution_count": 6,
   "metadata": {
    "code_folding": [
     0
    ],
    "collapsed": true
   },
   "outputs": [],
   "source": [
    "def floatToString(inputValue):\n",
    "    result = ('%.15f' % inputValue).rstrip('0').rstrip('.')\n",
    "    return '0' if result == '-0' else result"
   ]
  },
  {
   "cell_type": "code",
   "execution_count": 7,
   "metadata": {
    "code_folding": [
     0
    ],
    "collapsed": true
   },
   "outputs": [],
   "source": [
    "def mad(array):\n",
    "    \"\"\" \n",
    "    Get Median Absolute Deviation and multiple by 1.486 to mimic standard deviation\n",
    "        https://www.ibm.com/support/knowledgecenter/SSWLVY_1.0.0/com.ibm.spss.analyticcatalyst.help/analytic_catalyst/modified_z.html\n",
    "    Median Absolute Deviation: a \"Robust\" version of standard deviation.\n",
    "        Indices variabililty of the sample.\n",
    "        https://en.wikipedia.org/wiki/Median_absolute_deviation\n",
    "    \"\"\"\n",
    "    array = np.ma.array(array).compressed()\n",
    "    median = np.nanmedian(array)\n",
    "    mad = np.nanmedian(np.abs(array - median))\n",
    "    return mad"
   ]
  },
  {
   "cell_type": "code",
   "execution_count": 8,
   "metadata": {
    "code_folding": [
     0
    ],
    "collapsed": true
   },
   "outputs": [],
   "source": [
    "def meanad(array):\n",
    "    \"\"\" \n",
    "    Get Mean Absolute Deviation and multiple by 1.253314 to mimic standard deviation\n",
    "        https://www.ibm.com/support/knowledgecenter/SSWLVY_1.0.0/com.ibm.spss.analyticcatalyst.help/analytic_catalyst/modified_z.html\n",
    "    Mean Absolute Deviation: a \"Robust\" version of standard deviation.\n",
    "        Indices variabililty of the sample.\n",
    "        https://en.wikipedia.org/wiki/Mean_absolute_deviation\n",
    "    \"\"\"\n",
    "    array = np.ma.array(array).compressed()\n",
    "    median = np.nanmedian(array)\n",
    "    mad = np.nanmean(np.abs(array - median))\n",
    "    return mad"
   ]
  },
  {
   "cell_type": "code",
   "execution_count": 9,
   "metadata": {
    "code_folding": [
     0
    ],
    "collapsed": false
   },
   "outputs": [],
   "source": [
    "def modified_z(array):\n",
    "    try:\n",
    "        try:\n",
    "            \n",
    "            try:\n",
    "                median = np.nanmedian(array)\n",
    "                denominator = mad(array) * 1.486\n",
    "                array = (array - median) / denominator\n",
    "                return array\n",
    "            \n",
    "            except:\n",
    "                median = np.nanmedian(array)\n",
    "                denominator = meanad(array) * 1.253314\n",
    "                array = (array - median) / denominator\n",
    "                return array\n",
    "        \n",
    "        except:\n",
    "            mean = np.nanmean(array)\n",
    "            denominator = np.nanstd(array)\n",
    "            array = (array - mean) / denominator\n",
    "            return array\n",
    "    \n",
    "    except:\n",
    "        array = array.fillna(0)"
   ]
  },
  {
   "cell_type": "code",
   "execution_count": 10,
   "metadata": {
    "code_folding": [
     0
    ],
    "collapsed": true
   },
   "outputs": [],
   "source": [
    "def fill_null(column):\n",
    "    try:\n",
    "        median = np.nanmedian(column)\n",
    "        column = column.fillna(median)\n",
    "        return column\n",
    "    except:\n",
    "        return column"
   ]
  },
  {
   "cell_type": "code",
   "execution_count": 11,
   "metadata": {
    "code_folding": [
     0
    ],
    "collapsed": true
   },
   "outputs": [],
   "source": [
    "def impute_null(column):\n",
    "    try:\n",
    "        imp = Imputer(missing_values='NaN', strategy='median', axis=0)\n",
    "        imp.fit(column)\n",
    "        column = imp.transform(column)\n",
    "        return column\n",
    "    except:\n",
    "        return column"
   ]
  },
  {
   "cell_type": "code",
   "execution_count": 12,
   "metadata": {
    "code_folding": [
     0
    ],
    "collapsed": true
   },
   "outputs": [],
   "source": [
    "def clip_outliers(column):\n",
    "    \n",
    "    # Use try in case all null column\n",
    "    try:\n",
    "        floor = column.quantile(0.02)\n",
    "        ceiling = column.quantile(0.98)\n",
    "        column = column.clip(floor, ceiling)\n",
    "        return column\n",
    "    # If error, return as is\n",
    "    except:\n",
    "        return column"
   ]
  },
  {
   "cell_type": "code",
   "execution_count": 18,
   "metadata": {
    "code_folding": [
     0
    ],
    "collapsed": false
   },
   "outputs": [],
   "source": [
    "# df - Load\n",
    "df = pd.read_csv('c:/users/sconner/Desktop/W205_Final/sample_data/Half_Financial_Ratios_Firm_Level.csv')"
   ]
  },
  {
   "cell_type": "code",
   "execution_count": 19,
   "metadata": {
    "code_folding": [
     0
    ],
    "collapsed": true
   },
   "outputs": [],
   "source": [
    "# Link Table - Load\n",
    "link_table = pd.read_csv('c:/users/sconner/Desktop/W205_Final/sample_data/CRSP_Compustat_Merged_Linking_Table.csv')"
   ]
  },
  {
   "cell_type": "code",
   "execution_count": 20,
   "metadata": {
    "code_folding": [
     0
    ],
    "collapsed": false
   },
   "outputs": [],
   "source": [
    "# Link Table - Clean - LINKENDDT\n",
    "# Replace 'E' values with future date (current unique ID)\n",
    "link_table['LINKENDDT'] = link_table['LINKENDDT'].str.replace('E','20200101').astype(int)"
   ]
  },
  {
   "cell_type": "code",
   "execution_count": 21,
   "metadata": {
    "code_folding": [
     0
    ],
    "collapsed": false
   },
   "outputs": [],
   "source": [
    "# Link Table - Clean - LPERMNO\n",
    "# Convert PERMNO from int to object\n",
    "link_table['LPERMNO'] = link_table['LPERMNO'].astype(object)"
   ]
  },
  {
   "cell_type": "code",
   "execution_count": 22,
   "metadata": {
    "code_folding": [
     0
    ],
    "collapsed": false
   },
   "outputs": [],
   "source": [
    "# Link Table - Clean - LINKDT & LINKENDDT\n",
    "# Get start and end dates for link to determine identification during given time\n",
    "link_table['LINKDT'] = pd.to_datetime(link_table['LINKDT'], format='%Y%m%d')\n",
    "link_table['LINKENDDT'] = pd.to_datetime(link_table['LINKENDDT'], format='%Y%m%d')"
   ]
  },
  {
   "cell_type": "code",
   "execution_count": 23,
   "metadata": {
    "code_folding": [
     0
    ],
    "collapsed": false
   },
   "outputs": [],
   "source": [
    "# Merge - df & Link Table\n",
    "# Merge financial ratio suite with link table to build more foreign keys\n",
    "df = pd.merge(df, link_table, on='gvkey', how='left', suffixes=('', '_y'))\n",
    "# Release Memory\n",
    "del link_table"
   ]
  },
  {
   "cell_type": "code",
   "execution_count": 24,
   "metadata": {
    "code_folding": [
     0
    ],
    "collapsed": false
   },
   "outputs": [],
   "source": [
    "# df - Enrich - Time Features\n",
    "# Convert to time\n",
    "df['public_date'] = pd.to_datetime(df['public_date'], infer_datetime_format=True)\n",
    "# Create year\n",
    "df['year'] = df['public_date'].dt.year\n",
    "# Create month\n",
    "df['month'] = df['public_date'].dt.month\n",
    "# Create year-month\n",
    "df[\"year-month\"] = df['public_date'].apply(lambda x: x.strftime('%Y-%m'))"
   ]
  },
  {
   "cell_type": "code",
   "execution_count": 25,
   "metadata": {
    "code_folding": [
     0
    ],
    "collapsed": false
   },
   "outputs": [],
   "source": [
    "# df - Enrich - Time-based Unique Identifiers\n",
    "# Create Unique Identifier for links from other databases for specific date-time\n",
    "df[\"GVKEY-year-month\"] = df[\"gvkey\"].map(str) + \"-\" + df[\"year-month\"]\n",
    "df[\"CUSIP-year-month\"] = df[\"cusip\"].map(str) + \"-\" + df[\"year-month\"]\n",
    "df[\"TIC-year-month\"] = df[\"tic\"].map(str) + \"-\" + df[\"year-month\"]\n",
    "df[\"PERMNO-year-month\"] = df[\"LPERMNO\"].map(str) + \"-\" + df[\"year-month\"]"
   ]
  },
  {
   "cell_type": "code",
   "execution_count": 26,
   "metadata": {
    "code_folding": [
     0
    ],
    "collapsed": false
   },
   "outputs": [],
   "source": [
    "# df - Subset - Correct Unique ID's per public data\n",
    "# Filter dataframe to rows of unique identifiers during correct link range\n",
    "df = df[(df.public_date >= df.LINKDT) & (df.public_date <= df.LINKENDDT)]"
   ]
  },
  {
   "cell_type": "code",
   "execution_count": 27,
   "metadata": {
    "code_folding": [
     0
    ],
    "collapsed": false
   },
   "outputs": [],
   "source": [
    "# CRSP - Load\n",
    "# Load CRSP/Compustat Merged Database - Security Monthly from Wharton\n",
    "CRSP_comp_merge = pd.read_csv('c:/users/sconner/desktop/W205_Final/sample_data/Sub_CRSP_Compustat_Merged_Security_Monthly.csv')"
   ]
  },
  {
   "cell_type": "code",
   "execution_count": null,
   "metadata": {
    "code_folding": [
     0
    ],
    "collapsed": false
   },
   "outputs": [],
   "source": [
    "# CRSP - Enrich - Time Features\n",
    "\n",
    "# Convert to date-time\n",
    "CRSP_comp_merge['datadate'] = pd.to_datetime(CRSP_comp_merge['datadate'], infer_datetime_format=True)\n",
    "# Create year\n",
    "CRSP_comp_merge['year'] = CRSP_comp_merge['datadate'].dt.year\n",
    "# Create month\n",
    "CRSP_comp_merge['month'] = CRSP_comp_merge['datadate'].dt.month\n",
    "# Create year-month\n",
    "CRSP_comp_merge[\"year-month\"] = CRSP_comp_merge['datadate'].apply(lambda x: x.strftime('%Y-%m'))"
   ]
  },
  {
   "cell_type": "code",
   "execution_count": 25,
   "metadata": {
    "code_folding": [
     0
    ],
    "collapsed": false
   },
   "outputs": [],
   "source": [
    "# CRSP - Enrich - Time-based Unique Identifiers\n",
    "# CRSP - Unique ID in time (GVKEY + time-month)\n",
    "CRSP_comp_merge[\"GVKEY-year-month\"] = CRSP_comp_merge[\"GVKEY\"].map(str) + \"-\" + CRSP_comp_merge[\"year-month\"]"
   ]
  },
  {
   "cell_type": "code",
   "execution_count": 26,
   "metadata": {
    "code_folding": [],
    "collapsed": false
   },
   "outputs": [],
   "source": [
    "# CRSP - Sort - Date and GVKEY\n",
    "CRSP_comp_merge = CRSP_comp_merge.sort_values(by=['GVKEY','datadate'], ascending=[True,True])"
   ]
  },
  {
   "cell_type": "code",
   "execution_count": 27,
   "metadata": {
    "code_folding": [
     0
    ],
    "collapsed": true
   },
   "outputs": [],
   "source": [
    "# CRSP - Enrich - Forward (PRCCM -- Price - Close - Monthly) 1 – 36 months\n",
    "CRSP_comp_merge['forward_one_month_prccm'] = CRSP_comp_merge.groupby('GVKEY')['prccm'].shift(-1)\n",
    "CRSP_comp_merge['forward_two_month_prccm'] = CRSP_comp_merge.groupby('GVKEY')['prccm'].shift(-2)\n",
    "CRSP_comp_merge['forward_three_month_prccm'] = CRSP_comp_merge.groupby('GVKEY')['prccm'].shift(-3)\n",
    "CRSP_comp_merge['forward_four_month_prccm'] = CRSP_comp_merge.groupby('GVKEY')['prccm'].shift(-4)\n",
    "CRSP_comp_merge['forward_five_month_prccm'] = CRSP_comp_merge.groupby('GVKEY')['prccm'].shift(-5)\n",
    "CRSP_comp_merge['forward_six_month_prccm'] = CRSP_comp_merge.groupby('GVKEY')['prccm'].shift(-6)\n",
    "CRSP_comp_merge['forward_seven_month_prccm'] = CRSP_comp_merge.groupby('GVKEY')['prccm'].shift(-7)\n",
    "CRSP_comp_merge['forward_eight_month_prccm'] = CRSP_comp_merge.groupby('GVKEY')['prccm'].shift(-8)\n",
    "CRSP_comp_merge['forward_nine_month_prccm'] = CRSP_comp_merge.groupby('GVKEY')['prccm'].shift(-9)\n",
    "CRSP_comp_merge['forward_ten_month_prccm'] = CRSP_comp_merge.groupby('GVKEY')['prccm'].shift(-10)\n",
    "CRSP_comp_merge['forward_eleven_month_prccm'] = CRSP_comp_merge.groupby('GVKEY')['prccm'].shift(-11)\n",
    "CRSP_comp_merge['forward_twelve_month_prccm'] = CRSP_comp_merge.groupby('GVKEY')['prccm'].shift(-12)\n",
    "CRSP_comp_merge['forward_thirteen_month_prccm'] = CRSP_comp_merge.groupby('GVKEY')['prccm'].shift(-13)\n",
    "CRSP_comp_merge['forward_fourteen_month_prccm'] = CRSP_comp_merge.groupby('GVKEY')['prccm'].shift(-14)\n",
    "CRSP_comp_merge['forward_fifteen_month_prccm'] = CRSP_comp_merge.groupby('GVKEY')['prccm'].shift(-15)\n",
    "CRSP_comp_merge['forward_sixteen_month_prccm'] = CRSP_comp_merge.groupby('GVKEY')['prccm'].shift(-16)\n",
    "CRSP_comp_merge['forward_seventeen_month_prccm'] = CRSP_comp_merge.groupby('GVKEY')['prccm'].shift(-17)\n",
    "CRSP_comp_merge['forward_eighteen_month_prccm'] = CRSP_comp_merge.groupby('GVKEY')['prccm'].shift(-18)\n",
    "CRSP_comp_merge['forward_nineteen_month_prccm'] = CRSP_comp_merge.groupby('GVKEY')['prccm'].shift(-19)\n",
    "CRSP_comp_merge['forward_twenty_month_prccm'] = CRSP_comp_merge.groupby('GVKEY')['prccm'].shift(-20)\n",
    "CRSP_comp_merge['forward_twentyone_month_prccm'] = CRSP_comp_merge.groupby('GVKEY')['prccm'].shift(-21)\n",
    "CRSP_comp_merge['forward_twentytwo_month_prccm'] = CRSP_comp_merge.groupby('GVKEY')['prccm'].shift(-22)\n",
    "CRSP_comp_merge['forward_twentythree_month_prccm'] = CRSP_comp_merge.groupby('GVKEY')['prccm'].shift(-23)\n",
    "CRSP_comp_merge['forward_twentyfour_month_prccm'] = CRSP_comp_merge.groupby('GVKEY')['prccm'].shift(-24)\n",
    "CRSP_comp_merge['forward_twentyfive_month_prccm'] = CRSP_comp_merge.groupby('GVKEY')['prccm'].shift(-25)\n",
    "CRSP_comp_merge['forward_twentysix_month_prccm'] = CRSP_comp_merge.groupby('GVKEY')['prccm'].shift(-26)\n",
    "CRSP_comp_merge['forward_twentyseven_month_prccm'] = CRSP_comp_merge.groupby('GVKEY')['prccm'].shift(-27)\n",
    "CRSP_comp_merge['forward_twentyeight_month_prccm'] = CRSP_comp_merge.groupby('GVKEY')['prccm'].shift(-28)\n",
    "CRSP_comp_merge['forward_twentynine_month_prccm'] = CRSP_comp_merge.groupby('GVKEY')['prccm'].shift(-29)\n",
    "CRSP_comp_merge['forward_thirty_month_prccm'] = CRSP_comp_merge.groupby('GVKEY')['prccm'].shift(-30)\n",
    "CRSP_comp_merge['forward_thirtyone_month_prccm'] = CRSP_comp_merge.groupby('GVKEY')['prccm'].shift(-31)\n",
    "CRSP_comp_merge['forward_thirtytwo_month_prccm'] = CRSP_comp_merge.groupby('GVKEY')['prccm'].shift(-32)\n",
    "CRSP_comp_merge['forward_thirtythree_month_prccm'] = CRSP_comp_merge.groupby('GVKEY')['prccm'].shift(-33)\n",
    "CRSP_comp_merge['forward_thirtyfour_month_prccm'] = CRSP_comp_merge.groupby('GVKEY')['prccm'].shift(-34)\n",
    "CRSP_comp_merge['forward_thirtyfive_month_prccm'] = CRSP_comp_merge.groupby('GVKEY')['prccm'].shift(-35)\n",
    "CRSP_comp_merge['forward_thirtysix_month_prccm'] = CRSP_comp_merge.groupby('GVKEY')['prccm'].shift(-36)"
   ]
  },
  {
   "cell_type": "code",
   "execution_count": 28,
   "metadata": {
    "code_folding": [
     0
    ],
    "collapsed": true
   },
   "outputs": [],
   "source": [
    "# CRSP - Enrich - Forward (AJEXM -- Cumulative Adjustment Factor - Ex Date -Monthly) 1 – 36 months\n",
    "CRSP_comp_merge['forward_one_month_ajexm'] = CRSP_comp_merge.groupby('GVKEY')['ajexm'].shift(-1)\n",
    "CRSP_comp_merge['forward_two_month_ajexm'] = CRSP_comp_merge.groupby('GVKEY')['ajexm'].shift(-2)\n",
    "CRSP_comp_merge['forward_three_month_ajexm'] = CRSP_comp_merge.groupby('GVKEY')['ajexm'].shift(-3)\n",
    "CRSP_comp_merge['forward_four_month_ajexm'] = CRSP_comp_merge.groupby('GVKEY')['ajexm'].shift(-4)\n",
    "CRSP_comp_merge['forward_five_month_ajexm'] = CRSP_comp_merge.groupby('GVKEY')['ajexm'].shift(-5)\n",
    "CRSP_comp_merge['forward_six_month_ajexm'] = CRSP_comp_merge.groupby('GVKEY')['ajexm'].shift(-6)\n",
    "CRSP_comp_merge['forward_seven_month_ajexm'] = CRSP_comp_merge.groupby('GVKEY')['ajexm'].shift(-7)\n",
    "CRSP_comp_merge['forward_eight_month_ajexm'] = CRSP_comp_merge.groupby('GVKEY')['ajexm'].shift(-8)\n",
    "CRSP_comp_merge['forward_nine_month_ajexm'] = CRSP_comp_merge.groupby('GVKEY')['ajexm'].shift(-9)\n",
    "CRSP_comp_merge['forward_ten_month_ajexm'] = CRSP_comp_merge.groupby('GVKEY')['ajexm'].shift(-10)\n",
    "CRSP_comp_merge['forward_eleven_month_ajexm'] = CRSP_comp_merge.groupby('GVKEY')['ajexm'].shift(-11)\n",
    "CRSP_comp_merge['forward_twelve_month_ajexm'] = CRSP_comp_merge.groupby('GVKEY')['ajexm'].shift(-12)\n",
    "CRSP_comp_merge['forward_thirteen_month_ajexm'] = CRSP_comp_merge.groupby('GVKEY')['ajexm'].shift(-13)\n",
    "CRSP_comp_merge['forward_fourteen_month_ajexm'] = CRSP_comp_merge.groupby('GVKEY')['ajexm'].shift(-14)\n",
    "CRSP_comp_merge['forward_fifteen_month_ajexm'] = CRSP_comp_merge.groupby('GVKEY')['ajexm'].shift(-15)\n",
    "CRSP_comp_merge['forward_sixteen_month_ajexm'] = CRSP_comp_merge.groupby('GVKEY')['ajexm'].shift(-16)\n",
    "CRSP_comp_merge['forward_seventeen_month_ajexm'] = CRSP_comp_merge.groupby('GVKEY')['ajexm'].shift(-17)\n",
    "CRSP_comp_merge['forward_eighteen_month_ajexm'] = CRSP_comp_merge.groupby('GVKEY')['ajexm'].shift(-18)\n",
    "CRSP_comp_merge['forward_nineteen_month_ajexm'] = CRSP_comp_merge.groupby('GVKEY')['ajexm'].shift(-19)\n",
    "CRSP_comp_merge['forward_twenty_month_ajexm'] = CRSP_comp_merge.groupby('GVKEY')['ajexm'].shift(-20)\n",
    "CRSP_comp_merge['forward_twentyone_month_ajexm'] = CRSP_comp_merge.groupby('GVKEY')['ajexm'].shift(-21)\n",
    "CRSP_comp_merge['forward_twentytwo_month_ajexm'] = CRSP_comp_merge.groupby('GVKEY')['ajexm'].shift(-22)\n",
    "CRSP_comp_merge['forward_twentythree_month_ajexm'] = CRSP_comp_merge.groupby('GVKEY')['ajexm'].shift(-23)\n",
    "CRSP_comp_merge['forward_twentyfour_month_ajexm'] = CRSP_comp_merge.groupby('GVKEY')['ajexm'].shift(-24)\n",
    "CRSP_comp_merge['forward_twentyfive_month_ajexm'] = CRSP_comp_merge.groupby('GVKEY')['ajexm'].shift(-25)\n",
    "CRSP_comp_merge['forward_twentysix_month_ajexm'] = CRSP_comp_merge.groupby('GVKEY')['ajexm'].shift(-26)\n",
    "CRSP_comp_merge['forward_twentyseven_month_ajexm'] = CRSP_comp_merge.groupby('GVKEY')['ajexm'].shift(-27)\n",
    "CRSP_comp_merge['forward_twentyeight_month_ajexm'] = CRSP_comp_merge.groupby('GVKEY')['ajexm'].shift(-28)\n",
    "CRSP_comp_merge['forward_twentynine_month_ajexm'] = CRSP_comp_merge.groupby('GVKEY')['ajexm'].shift(-29)\n",
    "CRSP_comp_merge['forward_thirty_month_ajexm'] = CRSP_comp_merge.groupby('GVKEY')['ajexm'].shift(-30)\n",
    "CRSP_comp_merge['forward_thirtyone_month_ajexm'] = CRSP_comp_merge.groupby('GVKEY')['ajexm'].shift(-31)\n",
    "CRSP_comp_merge['forward_thirtytwo_month_ajexm'] = CRSP_comp_merge.groupby('GVKEY')['ajexm'].shift(-32)\n",
    "CRSP_comp_merge['forward_thirtythree_month_ajexm'] = CRSP_comp_merge.groupby('GVKEY')['ajexm'].shift(-33)\n",
    "CRSP_comp_merge['forward_thirtyfour_month_ajexm'] = CRSP_comp_merge.groupby('GVKEY')['ajexm'].shift(-34)\n",
    "CRSP_comp_merge['forward_thirtyfive_month_ajexm'] = CRSP_comp_merge.groupby('GVKEY')['ajexm'].shift(-35)\n",
    "CRSP_comp_merge['forward_thirtysix_month_ajexm'] = CRSP_comp_merge.groupby('GVKEY')['ajexm'].shift(-36)"
   ]
  },
  {
   "cell_type": "code",
   "execution_count": 29,
   "metadata": {
    "code_folding": [
     0
    ],
    "collapsed": true
   },
   "outputs": [],
   "source": [
    "# CRSP - Enrich - Forward (TRFM -- Monthly Total Return Factor) 1 – 36 months\n",
    "CRSP_comp_merge['forward_one_month_trfm'] = CRSP_comp_merge.groupby('GVKEY')['trfm'].shift(-1)\n",
    "CRSP_comp_merge['forward_two_month_trfm'] = CRSP_comp_merge.groupby('GVKEY')['trfm'].shift(-2)\n",
    "CRSP_comp_merge['forward_three_month_trfm'] = CRSP_comp_merge.groupby('GVKEY')['trfm'].shift(-3)\n",
    "CRSP_comp_merge['forward_four_month_trfm'] = CRSP_comp_merge.groupby('GVKEY')['trfm'].shift(-4)\n",
    "CRSP_comp_merge['forward_five_month_trfm'] = CRSP_comp_merge.groupby('GVKEY')['trfm'].shift(-5)\n",
    "CRSP_comp_merge['forward_six_month_trfm'] = CRSP_comp_merge.groupby('GVKEY')['trfm'].shift(-6)\n",
    "CRSP_comp_merge['forward_seven_month_trfm'] = CRSP_comp_merge.groupby('GVKEY')['trfm'].shift(-7)\n",
    "CRSP_comp_merge['forward_eight_month_trfm'] = CRSP_comp_merge.groupby('GVKEY')['trfm'].shift(-8)\n",
    "CRSP_comp_merge['forward_nine_month_trfm'] = CRSP_comp_merge.groupby('GVKEY')['trfm'].shift(-9)\n",
    "CRSP_comp_merge['forward_ten_month_trfm'] = CRSP_comp_merge.groupby('GVKEY')['trfm'].shift(-10)\n",
    "CRSP_comp_merge['forward_eleven_month_trfm'] = CRSP_comp_merge.groupby('GVKEY')['trfm'].shift(-11)\n",
    "CRSP_comp_merge['forward_twelve_month_trfm'] = CRSP_comp_merge.groupby('GVKEY')['trfm'].shift(-12)\n",
    "CRSP_comp_merge['forward_thirteen_month_trfm'] = CRSP_comp_merge.groupby('GVKEY')['trfm'].shift(-13)\n",
    "CRSP_comp_merge['forward_fourteen_month_trfm'] = CRSP_comp_merge.groupby('GVKEY')['trfm'].shift(-14)\n",
    "CRSP_comp_merge['forward_fifteen_month_trfm'] = CRSP_comp_merge.groupby('GVKEY')['trfm'].shift(-15)\n",
    "CRSP_comp_merge['forward_sixteen_month_trfm'] = CRSP_comp_merge.groupby('GVKEY')['trfm'].shift(-16)\n",
    "CRSP_comp_merge['forward_seventeen_month_trfm'] = CRSP_comp_merge.groupby('GVKEY')['trfm'].shift(-17)\n",
    "CRSP_comp_merge['forward_eighteen_month_trfm'] = CRSP_comp_merge.groupby('GVKEY')['trfm'].shift(-18)\n",
    "CRSP_comp_merge['forward_nineteen_month_trfm'] = CRSP_comp_merge.groupby('GVKEY')['trfm'].shift(-19)\n",
    "CRSP_comp_merge['forward_twenty_month_trfm'] = CRSP_comp_merge.groupby('GVKEY')['trfm'].shift(-20)\n",
    "CRSP_comp_merge['forward_twentyone_month_trfm'] = CRSP_comp_merge.groupby('GVKEY')['trfm'].shift(-21)\n",
    "CRSP_comp_merge['forward_twentytwo_month_trfm'] = CRSP_comp_merge.groupby('GVKEY')['trfm'].shift(-22)\n",
    "CRSP_comp_merge['forward_twentythree_month_trfm'] = CRSP_comp_merge.groupby('GVKEY')['trfm'].shift(-23)\n",
    "CRSP_comp_merge['forward_twentyfour_month_trfm'] = CRSP_comp_merge.groupby('GVKEY')['trfm'].shift(-24)\n",
    "CRSP_comp_merge['forward_twentyfive_month_trfm'] = CRSP_comp_merge.groupby('GVKEY')['trfm'].shift(-25)\n",
    "CRSP_comp_merge['forward_twentysix_month_trfm'] = CRSP_comp_merge.groupby('GVKEY')['trfm'].shift(-26)\n",
    "CRSP_comp_merge['forward_twentyseven_month_trfm'] = CRSP_comp_merge.groupby('GVKEY')['trfm'].shift(-27)\n",
    "CRSP_comp_merge['forward_twentyeight_month_trfm'] = CRSP_comp_merge.groupby('GVKEY')['trfm'].shift(-28)\n",
    "CRSP_comp_merge['forward_twentynine_month_trfm'] = CRSP_comp_merge.groupby('GVKEY')['trfm'].shift(-29)\n",
    "CRSP_comp_merge['forward_thirty_month_trfm'] = CRSP_comp_merge.groupby('GVKEY')['trfm'].shift(-30)\n",
    "CRSP_comp_merge['forward_thirtyone_month_trfm'] = CRSP_comp_merge.groupby('GVKEY')['trfm'].shift(-31)\n",
    "CRSP_comp_merge['forward_thirtytwo_month_trfm'] = CRSP_comp_merge.groupby('GVKEY')['trfm'].shift(-32)\n",
    "CRSP_comp_merge['forward_thirtythree_month_trfm'] = CRSP_comp_merge.groupby('GVKEY')['trfm'].shift(-33)\n",
    "CRSP_comp_merge['forward_thirtyfour_month_trfm'] = CRSP_comp_merge.groupby('GVKEY')['trfm'].shift(-34)\n",
    "CRSP_comp_merge['forward_thirtyfive_month_trfm'] = CRSP_comp_merge.groupby('GVKEY')['trfm'].shift(-35)\n",
    "CRSP_comp_merge['forward_thirtysix_month_trfm'] = CRSP_comp_merge.groupby('GVKEY')['trfm'].shift(-36)\n"
   ]
  },
  {
   "cell_type": "code",
   "execution_count": 30,
   "metadata": {
    "code_folding": [
     0
    ],
    "collapsed": true
   },
   "outputs": [],
   "source": [
    "# CRSP - Enrich - Forward Return over number of months (1 - 36)\n",
    "CRSP_comp_merge['forward_one_month_return'] = ((((CRSP_comp_merge['forward_one_month_prccm']/CRSP_comp_merge['forward_one_month_ajexm'])*CRSP_comp_merge['forward_one_month_trfm'])/((CRSP_comp_merge['prccm']/CRSP_comp_merge['ajexm'])*CRSP_comp_merge['trfm']))-1)*100\n",
    "CRSP_comp_merge['forward_two_month_return'] = ((((CRSP_comp_merge['forward_two_month_prccm']/CRSP_comp_merge['forward_two_month_ajexm'])*CRSP_comp_merge['forward_two_month_trfm'])/((CRSP_comp_merge['prccm']/CRSP_comp_merge['ajexm'])*CRSP_comp_merge['trfm']))-1)*100\n",
    "CRSP_comp_merge['forward_three_month_return'] = ((((CRSP_comp_merge['forward_three_month_prccm']/CRSP_comp_merge['forward_three_month_ajexm'])*CRSP_comp_merge['forward_three_month_trfm'])/((CRSP_comp_merge['prccm']/CRSP_comp_merge['ajexm'])*CRSP_comp_merge['trfm']))-1)*100\n",
    "CRSP_comp_merge['forward_four_month_return'] = ((((CRSP_comp_merge['forward_four_month_prccm']/CRSP_comp_merge['forward_four_month_ajexm'])*CRSP_comp_merge['forward_four_month_trfm'])/((CRSP_comp_merge['prccm']/CRSP_comp_merge['ajexm'])*CRSP_comp_merge['trfm']))-1)*100\n",
    "CRSP_comp_merge['forward_five_month_return'] = ((((CRSP_comp_merge['forward_five_month_prccm']/CRSP_comp_merge['forward_five_month_ajexm'])*CRSP_comp_merge['forward_five_month_trfm'])/((CRSP_comp_merge['prccm']/CRSP_comp_merge['ajexm'])*CRSP_comp_merge['trfm']))-1)*100\n",
    "CRSP_comp_merge['forward_six_month_return'] = ((((CRSP_comp_merge['forward_six_month_prccm']/CRSP_comp_merge['forward_six_month_ajexm'])*CRSP_comp_merge['forward_six_month_trfm'])/((CRSP_comp_merge['prccm']/CRSP_comp_merge['ajexm'])*CRSP_comp_merge['trfm']))-1)*100\n",
    "CRSP_comp_merge['forward_seven_month_return'] = ((((CRSP_comp_merge['forward_seven_month_prccm']/CRSP_comp_merge['forward_seven_month_ajexm'])*CRSP_comp_merge['forward_seven_month_trfm'])/((CRSP_comp_merge['prccm']/CRSP_comp_merge['ajexm'])*CRSP_comp_merge['trfm']))-1)*100\n",
    "CRSP_comp_merge['forward_eight_month_return'] = ((((CRSP_comp_merge['forward_eight_month_prccm']/CRSP_comp_merge['forward_eight_month_ajexm'])*CRSP_comp_merge['forward_eight_month_trfm'])/((CRSP_comp_merge['prccm']/CRSP_comp_merge['ajexm'])*CRSP_comp_merge['trfm']))-1)*100\n",
    "CRSP_comp_merge['forward_nine_month_return'] = ((((CRSP_comp_merge['forward_nine_month_prccm']/CRSP_comp_merge['forward_nine_month_ajexm'])*CRSP_comp_merge['forward_nine_month_trfm'])/((CRSP_comp_merge['prccm']/CRSP_comp_merge['ajexm'])*CRSP_comp_merge['trfm']))-1)*100\n",
    "CRSP_comp_merge['forward_ten_month_return'] = ((((CRSP_comp_merge['forward_ten_month_prccm']/CRSP_comp_merge['forward_ten_month_ajexm'])*CRSP_comp_merge['forward_ten_month_trfm'])/((CRSP_comp_merge['prccm']/CRSP_comp_merge['ajexm'])*CRSP_comp_merge['trfm']))-1)*100\n",
    "CRSP_comp_merge['forward_eleven_month_return'] = ((((CRSP_comp_merge['forward_eleven_month_prccm']/CRSP_comp_merge['forward_eleven_month_ajexm'])*CRSP_comp_merge['forward_eleven_month_trfm'])/((CRSP_comp_merge['prccm']/CRSP_comp_merge['ajexm'])*CRSP_comp_merge['trfm']))-1)*100\n",
    "CRSP_comp_merge['forward_twelve_month_return'] = ((((CRSP_comp_merge['forward_twelve_month_prccm']/CRSP_comp_merge['forward_twelve_month_ajexm'])*CRSP_comp_merge['forward_twelve_month_trfm'])/((CRSP_comp_merge['prccm']/CRSP_comp_merge['ajexm'])*CRSP_comp_merge['trfm']))-1)*100\n",
    "CRSP_comp_merge['forward_thirteen_month_return'] = ((((CRSP_comp_merge['forward_thirteen_month_prccm']/CRSP_comp_merge['forward_thirteen_month_ajexm'])*CRSP_comp_merge['forward_thirteen_month_trfm'])/((CRSP_comp_merge['prccm']/CRSP_comp_merge['ajexm'])*CRSP_comp_merge['trfm']))-1)*100\n",
    "CRSP_comp_merge['forward_fourteen_month_return'] = ((((CRSP_comp_merge['forward_fourteen_month_prccm']/CRSP_comp_merge['forward_fourteen_month_ajexm'])*CRSP_comp_merge['forward_fourteen_month_trfm'])/((CRSP_comp_merge['prccm']/CRSP_comp_merge['ajexm'])*CRSP_comp_merge['trfm']))-1)*100\n",
    "CRSP_comp_merge['forward_fifteen_month_return'] = ((((CRSP_comp_merge['forward_fifteen_month_prccm']/CRSP_comp_merge['forward_fifteen_month_ajexm'])*CRSP_comp_merge['forward_fifteen_month_trfm'])/((CRSP_comp_merge['prccm']/CRSP_comp_merge['ajexm'])*CRSP_comp_merge['trfm']))-1)*100\n",
    "CRSP_comp_merge['forward_sixteen_month_return'] = ((((CRSP_comp_merge['forward_sixteen_month_prccm']/CRSP_comp_merge['forward_sixteen_month_ajexm'])*CRSP_comp_merge['forward_sixteen_month_trfm'])/((CRSP_comp_merge['prccm']/CRSP_comp_merge['ajexm'])*CRSP_comp_merge['trfm']))-1)*100\n",
    "CRSP_comp_merge['forward_seventeen_month_return'] = ((((CRSP_comp_merge['forward_seventeen_month_prccm']/CRSP_comp_merge['forward_seventeen_month_ajexm'])*CRSP_comp_merge['forward_seventeen_month_trfm'])/((CRSP_comp_merge['prccm']/CRSP_comp_merge['ajexm'])*CRSP_comp_merge['trfm']))-1)*100\n",
    "CRSP_comp_merge['forward_eighteen_month_return'] = ((((CRSP_comp_merge['forward_eighteen_month_prccm']/CRSP_comp_merge['forward_eighteen_month_ajexm'])*CRSP_comp_merge['forward_eighteen_month_trfm'])/((CRSP_comp_merge['prccm']/CRSP_comp_merge['ajexm'])*CRSP_comp_merge['trfm']))-1)*100\n",
    "CRSP_comp_merge['forward_nineteen_month_return'] = ((((CRSP_comp_merge['forward_nineteen_month_prccm']/CRSP_comp_merge['forward_nineteen_month_ajexm'])*CRSP_comp_merge['forward_nineteen_month_trfm'])/((CRSP_comp_merge['prccm']/CRSP_comp_merge['ajexm'])*CRSP_comp_merge['trfm']))-1)*100\n",
    "CRSP_comp_merge['forward_twenty_month_return'] = ((((CRSP_comp_merge['forward_twenty_month_prccm']/CRSP_comp_merge['forward_twenty_month_ajexm'])*CRSP_comp_merge['forward_twenty_month_trfm'])/((CRSP_comp_merge['prccm']/CRSP_comp_merge['ajexm'])*CRSP_comp_merge['trfm']))-1)*100\n",
    "CRSP_comp_merge['forward_twentyone_month_return'] = ((((CRSP_comp_merge['forward_twentyone_month_prccm']/CRSP_comp_merge['forward_twentyone_month_ajexm'])*CRSP_comp_merge['forward_twentyone_month_trfm'])/((CRSP_comp_merge['prccm']/CRSP_comp_merge['ajexm'])*CRSP_comp_merge['trfm']))-1)*100\n",
    "CRSP_comp_merge['forward_twentytwo_month_return'] = ((((CRSP_comp_merge['forward_twentytwo_month_prccm']/CRSP_comp_merge['forward_twentytwo_month_ajexm'])*CRSP_comp_merge['forward_twentytwo_month_trfm'])/((CRSP_comp_merge['prccm']/CRSP_comp_merge['ajexm'])*CRSP_comp_merge['trfm']))-1)*100\n",
    "CRSP_comp_merge['forward_twentythree_month_return'] = ((((CRSP_comp_merge['forward_twentythree_month_prccm']/CRSP_comp_merge['forward_twentythree_month_ajexm'])*CRSP_comp_merge['forward_twentythree_month_trfm'])/((CRSP_comp_merge['prccm']/CRSP_comp_merge['ajexm'])*CRSP_comp_merge['trfm']))-1)*100\n",
    "CRSP_comp_merge['forward_twentyfour_month_return'] = ((((CRSP_comp_merge['forward_twentyfour_month_prccm']/CRSP_comp_merge['forward_twentyfour_month_ajexm'])*CRSP_comp_merge['forward_twentyfour_month_trfm'])/((CRSP_comp_merge['prccm']/CRSP_comp_merge['ajexm'])*CRSP_comp_merge['trfm']))-1)*100\n",
    "CRSP_comp_merge['forward_twentyfive_month_return'] = ((((CRSP_comp_merge['forward_twentyfive_month_prccm']/CRSP_comp_merge['forward_twentyfive_month_ajexm'])*CRSP_comp_merge['forward_twentyfive_month_trfm'])/((CRSP_comp_merge['prccm']/CRSP_comp_merge['ajexm'])*CRSP_comp_merge['trfm']))-1)*100\n",
    "CRSP_comp_merge['forward_twentysix_month_return'] = ((((CRSP_comp_merge['forward_twentysix_month_prccm']/CRSP_comp_merge['forward_twentysix_month_ajexm'])*CRSP_comp_merge['forward_twentysix_month_trfm'])/((CRSP_comp_merge['prccm']/CRSP_comp_merge['ajexm'])*CRSP_comp_merge['trfm']))-1)*100\n",
    "CRSP_comp_merge['forward_twentyseven_month_return'] = ((((CRSP_comp_merge['forward_twentyseven_month_prccm']/CRSP_comp_merge['forward_twentyseven_month_ajexm'])*CRSP_comp_merge['forward_twentyseven_month_trfm'])/((CRSP_comp_merge['prccm']/CRSP_comp_merge['ajexm'])*CRSP_comp_merge['trfm']))-1)*100\n",
    "CRSP_comp_merge['forward_twentyeight_month_return'] = ((((CRSP_comp_merge['forward_twentyeight_month_prccm']/CRSP_comp_merge['forward_twentyeight_month_ajexm'])*CRSP_comp_merge['forward_twentyeight_month_trfm'])/((CRSP_comp_merge['prccm']/CRSP_comp_merge['ajexm'])*CRSP_comp_merge['trfm']))-1)*100\n",
    "CRSP_comp_merge['forward_twentynine_month_return'] = ((((CRSP_comp_merge['forward_twentynine_month_prccm']/CRSP_comp_merge['forward_twentynine_month_ajexm'])*CRSP_comp_merge['forward_twentynine_month_trfm'])/((CRSP_comp_merge['prccm']/CRSP_comp_merge['ajexm'])*CRSP_comp_merge['trfm']))-1)*100\n",
    "CRSP_comp_merge['forward_thirty_month_return'] = ((((CRSP_comp_merge['forward_thirty_month_prccm']/CRSP_comp_merge['forward_thirty_month_ajexm'])*CRSP_comp_merge['forward_thirty_month_trfm'])/((CRSP_comp_merge['prccm']/CRSP_comp_merge['ajexm'])*CRSP_comp_merge['trfm']))-1)*100\n",
    "CRSP_comp_merge['forward_thirtyone_month_return'] = ((((CRSP_comp_merge['forward_thirtyone_month_prccm']/CRSP_comp_merge['forward_thirtyone_month_ajexm'])*CRSP_comp_merge['forward_thirtyone_month_trfm'])/((CRSP_comp_merge['prccm']/CRSP_comp_merge['ajexm'])*CRSP_comp_merge['trfm']))-1)*100\n",
    "CRSP_comp_merge['forward_thirtytwo_month_return'] = ((((CRSP_comp_merge['forward_thirtytwo_month_prccm']/CRSP_comp_merge['forward_thirtytwo_month_ajexm'])*CRSP_comp_merge['forward_thirtytwo_month_trfm'])/((CRSP_comp_merge['prccm']/CRSP_comp_merge['ajexm'])*CRSP_comp_merge['trfm']))-1)*100\n",
    "CRSP_comp_merge['forward_thirtythree_month_return'] = ((((CRSP_comp_merge['forward_thirtythree_month_prccm']/CRSP_comp_merge['forward_thirtythree_month_ajexm'])*CRSP_comp_merge['forward_thirtythree_month_trfm'])/((CRSP_comp_merge['prccm']/CRSP_comp_merge['ajexm'])*CRSP_comp_merge['trfm']))-1)*100\n",
    "CRSP_comp_merge['forward_thirtyfour_month_return'] = ((((CRSP_comp_merge['forward_thirtyfour_month_prccm']/CRSP_comp_merge['forward_thirtyfour_month_ajexm'])*CRSP_comp_merge['forward_thirtyfour_month_trfm'])/((CRSP_comp_merge['prccm']/CRSP_comp_merge['ajexm'])*CRSP_comp_merge['trfm']))-1)*100\n",
    "CRSP_comp_merge['forward_thirtyfive_month_return'] = ((((CRSP_comp_merge['forward_thirtyfive_month_prccm']/CRSP_comp_merge['forward_thirtyfive_month_ajexm'])*CRSP_comp_merge['forward_thirtyfive_month_trfm'])/((CRSP_comp_merge['prccm']/CRSP_comp_merge['ajexm'])*CRSP_comp_merge['trfm']))-1)*100\n",
    "CRSP_comp_merge['forward_thirtysix_month_return'] = ((((CRSP_comp_merge['forward_thirtysix_month_prccm']/CRSP_comp_merge['forward_thirtysix_month_ajexm'])*CRSP_comp_merge['forward_thirtysix_month_trfm'])/((CRSP_comp_merge['prccm']/CRSP_comp_merge['ajexm'])*CRSP_comp_merge['trfm']))-1)*100"
   ]
  },
  {
   "cell_type": "code",
   "execution_count": 31,
   "metadata": {
    "code_folding": [
     0
    ],
    "collapsed": true
   },
   "outputs": [],
   "source": [
    "# CRSP - Enrich - Past (PRCCM -- Price - Close - Monthly) 1 – 36 months\n",
    "CRSP_comp_merge['past_one_month_prccm'] = CRSP_comp_merge.groupby('GVKEY')['prccm'].shift(1)\n",
    "CRSP_comp_merge['past_two_month_prccm'] = CRSP_comp_merge.groupby('GVKEY')['prccm'].shift(2)\n",
    "CRSP_comp_merge['past_three_month_prccm'] = CRSP_comp_merge.groupby('GVKEY')['prccm'].shift(3)\n",
    "CRSP_comp_merge['past_four_month_prccm'] = CRSP_comp_merge.groupby('GVKEY')['prccm'].shift(4)\n",
    "CRSP_comp_merge['past_five_month_prccm'] = CRSP_comp_merge.groupby('GVKEY')['prccm'].shift(5)\n",
    "CRSP_comp_merge['past_six_month_prccm'] = CRSP_comp_merge.groupby('GVKEY')['prccm'].shift(6)\n",
    "CRSP_comp_merge['past_seven_month_prccm'] = CRSP_comp_merge.groupby('GVKEY')['prccm'].shift(7)\n",
    "CRSP_comp_merge['past_eight_month_prccm'] = CRSP_comp_merge.groupby('GVKEY')['prccm'].shift(8)\n",
    "CRSP_comp_merge['past_nine_month_prccm'] = CRSP_comp_merge.groupby('GVKEY')['prccm'].shift(9)\n",
    "CRSP_comp_merge['past_ten_month_prccm'] = CRSP_comp_merge.groupby('GVKEY')['prccm'].shift(10)\n",
    "CRSP_comp_merge['past_eleven_month_prccm'] = CRSP_comp_merge.groupby('GVKEY')['prccm'].shift(11)\n",
    "CRSP_comp_merge['past_twelve_month_prccm'] = CRSP_comp_merge.groupby('GVKEY')['prccm'].shift(12)\n",
    "CRSP_comp_merge['past_thirteen_month_prccm'] = CRSP_comp_merge.groupby('GVKEY')['prccm'].shift(13)\n",
    "CRSP_comp_merge['past_fourteen_month_prccm'] = CRSP_comp_merge.groupby('GVKEY')['prccm'].shift(14)\n",
    "CRSP_comp_merge['past_fifteen_month_prccm'] = CRSP_comp_merge.groupby('GVKEY')['prccm'].shift(15)\n",
    "CRSP_comp_merge['past_sixteen_month_prccm'] = CRSP_comp_merge.groupby('GVKEY')['prccm'].shift(16)\n",
    "CRSP_comp_merge['past_seventeen_month_prccm'] = CRSP_comp_merge.groupby('GVKEY')['prccm'].shift(17)\n",
    "CRSP_comp_merge['past_eighteen_month_prccm'] = CRSP_comp_merge.groupby('GVKEY')['prccm'].shift(18)\n",
    "CRSP_comp_merge['past_nineteen_month_prccm'] = CRSP_comp_merge.groupby('GVKEY')['prccm'].shift(19)\n",
    "CRSP_comp_merge['past_twenty_month_prccm'] = CRSP_comp_merge.groupby('GVKEY')['prccm'].shift(20)\n",
    "CRSP_comp_merge['past_twentyone_month_prccm'] = CRSP_comp_merge.groupby('GVKEY')['prccm'].shift(21)\n",
    "CRSP_comp_merge['past_twentytwo_month_prccm'] = CRSP_comp_merge.groupby('GVKEY')['prccm'].shift(22)\n",
    "CRSP_comp_merge['past_twentythree_month_prccm'] = CRSP_comp_merge.groupby('GVKEY')['prccm'].shift(23)\n",
    "CRSP_comp_merge['past_twentyfour_month_prccm'] = CRSP_comp_merge.groupby('GVKEY')['prccm'].shift(24)\n",
    "CRSP_comp_merge['past_twentyfive_month_prccm'] = CRSP_comp_merge.groupby('GVKEY')['prccm'].shift(25)\n",
    "CRSP_comp_merge['past_twentysix_month_prccm'] = CRSP_comp_merge.groupby('GVKEY')['prccm'].shift(26)\n",
    "CRSP_comp_merge['past_twentyseven_month_prccm'] = CRSP_comp_merge.groupby('GVKEY')['prccm'].shift(27)\n",
    "CRSP_comp_merge['past_twentyeight_month_prccm'] = CRSP_comp_merge.groupby('GVKEY')['prccm'].shift(28)\n",
    "CRSP_comp_merge['past_twentynine_month_prccm'] = CRSP_comp_merge.groupby('GVKEY')['prccm'].shift(29)\n",
    "CRSP_comp_merge['past_thirty_month_prccm'] = CRSP_comp_merge.groupby('GVKEY')['prccm'].shift(30)\n",
    "CRSP_comp_merge['past_thirtyone_month_prccm'] = CRSP_comp_merge.groupby('GVKEY')['prccm'].shift(31)\n",
    "CRSP_comp_merge['past_thirtytwo_month_prccm'] = CRSP_comp_merge.groupby('GVKEY')['prccm'].shift(32)\n",
    "CRSP_comp_merge['past_thirtythree_month_prccm'] = CRSP_comp_merge.groupby('GVKEY')['prccm'].shift(33)\n",
    "CRSP_comp_merge['past_thirtyfour_month_prccm'] = CRSP_comp_merge.groupby('GVKEY')['prccm'].shift(34)\n",
    "CRSP_comp_merge['past_thirtyfive_month_prccm'] = CRSP_comp_merge.groupby('GVKEY')['prccm'].shift(35)\n",
    "CRSP_comp_merge['past_thirtysix_month_prccm'] = CRSP_comp_merge.groupby('GVKEY')['prccm'].shift(36)"
   ]
  },
  {
   "cell_type": "code",
   "execution_count": 32,
   "metadata": {
    "code_folding": [
     0
    ],
    "collapsed": true
   },
   "outputs": [],
   "source": [
    "# CRSP - Enrich -  Past (AJEXM -- Cumulative Adjustment Factor - Ex Date -Monthly) 1 – 36 months\n",
    "CRSP_comp_merge['past_one_month_ajexm'] = CRSP_comp_merge.groupby('GVKEY')['ajexm'].shift(1)\n",
    "CRSP_comp_merge['past_two_month_ajexm'] = CRSP_comp_merge.groupby('GVKEY')['ajexm'].shift(2)\n",
    "CRSP_comp_merge['past_three_month_ajexm'] = CRSP_comp_merge.groupby('GVKEY')['ajexm'].shift(3)\n",
    "CRSP_comp_merge['past_four_month_ajexm'] = CRSP_comp_merge.groupby('GVKEY')['ajexm'].shift(4)\n",
    "CRSP_comp_merge['past_five_month_ajexm'] = CRSP_comp_merge.groupby('GVKEY')['ajexm'].shift(5)\n",
    "CRSP_comp_merge['past_six_month_ajexm'] = CRSP_comp_merge.groupby('GVKEY')['ajexm'].shift(6)\n",
    "CRSP_comp_merge['past_seven_month_ajexm'] = CRSP_comp_merge.groupby('GVKEY')['ajexm'].shift(7)\n",
    "CRSP_comp_merge['past_eight_month_ajexm'] = CRSP_comp_merge.groupby('GVKEY')['ajexm'].shift(8)\n",
    "CRSP_comp_merge['past_nine_month_ajexm'] = CRSP_comp_merge.groupby('GVKEY')['ajexm'].shift(9)\n",
    "CRSP_comp_merge['past_ten_month_ajexm'] = CRSP_comp_merge.groupby('GVKEY')['ajexm'].shift(10)\n",
    "CRSP_comp_merge['past_eleven_month_ajexm'] = CRSP_comp_merge.groupby('GVKEY')['ajexm'].shift(11)\n",
    "CRSP_comp_merge['past_twelve_month_ajexm'] = CRSP_comp_merge.groupby('GVKEY')['ajexm'].shift(12)\n",
    "CRSP_comp_merge['past_thirteen_month_ajexm'] = CRSP_comp_merge.groupby('GVKEY')['ajexm'].shift(13)\n",
    "CRSP_comp_merge['past_fourteen_month_ajexm'] = CRSP_comp_merge.groupby('GVKEY')['ajexm'].shift(14)\n",
    "CRSP_comp_merge['past_fifteen_month_ajexm'] = CRSP_comp_merge.groupby('GVKEY')['ajexm'].shift(15)\n",
    "CRSP_comp_merge['past_sixteen_month_ajexm'] = CRSP_comp_merge.groupby('GVKEY')['ajexm'].shift(16)\n",
    "CRSP_comp_merge['past_seventeen_month_ajexm'] = CRSP_comp_merge.groupby('GVKEY')['ajexm'].shift(17)\n",
    "CRSP_comp_merge['past_eighteen_month_ajexm'] = CRSP_comp_merge.groupby('GVKEY')['ajexm'].shift(18)\n",
    "CRSP_comp_merge['past_nineteen_month_ajexm'] = CRSP_comp_merge.groupby('GVKEY')['ajexm'].shift(19)\n",
    "CRSP_comp_merge['past_twenty_month_ajexm'] = CRSP_comp_merge.groupby('GVKEY')['ajexm'].shift(20)\n",
    "CRSP_comp_merge['past_twentyone_month_ajexm'] = CRSP_comp_merge.groupby('GVKEY')['ajexm'].shift(21)\n",
    "CRSP_comp_merge['past_twentytwo_month_ajexm'] = CRSP_comp_merge.groupby('GVKEY')['ajexm'].shift(22)\n",
    "CRSP_comp_merge['past_twentythree_month_ajexm'] = CRSP_comp_merge.groupby('GVKEY')['ajexm'].shift(23)\n",
    "CRSP_comp_merge['past_twentyfour_month_ajexm'] = CRSP_comp_merge.groupby('GVKEY')['ajexm'].shift(24)\n",
    "CRSP_comp_merge['past_twentyfive_month_ajexm'] = CRSP_comp_merge.groupby('GVKEY')['ajexm'].shift(25)\n",
    "CRSP_comp_merge['past_twentysix_month_ajexm'] = CRSP_comp_merge.groupby('GVKEY')['ajexm'].shift(26)\n",
    "CRSP_comp_merge['past_twentyseven_month_ajexm'] = CRSP_comp_merge.groupby('GVKEY')['ajexm'].shift(27)\n",
    "CRSP_comp_merge['past_twentyeight_month_ajexm'] = CRSP_comp_merge.groupby('GVKEY')['ajexm'].shift(28)\n",
    "CRSP_comp_merge['past_twentynine_month_ajexm'] = CRSP_comp_merge.groupby('GVKEY')['ajexm'].shift(29)\n",
    "CRSP_comp_merge['past_thirty_month_ajexm'] = CRSP_comp_merge.groupby('GVKEY')['ajexm'].shift(30)\n",
    "CRSP_comp_merge['past_thirtyone_month_ajexm'] = CRSP_comp_merge.groupby('GVKEY')['ajexm'].shift(31)\n",
    "CRSP_comp_merge['past_thirtytwo_month_ajexm'] = CRSP_comp_merge.groupby('GVKEY')['ajexm'].shift(32)\n",
    "CRSP_comp_merge['past_thirtythree_month_ajexm'] = CRSP_comp_merge.groupby('GVKEY')['ajexm'].shift(33)\n",
    "CRSP_comp_merge['past_thirtyfour_month_ajexm'] = CRSP_comp_merge.groupby('GVKEY')['ajexm'].shift(34)\n",
    "CRSP_comp_merge['past_thirtyfive_month_ajexm'] = CRSP_comp_merge.groupby('GVKEY')['ajexm'].shift(35)\n",
    "CRSP_comp_merge['past_thirtysix_month_ajexm'] = CRSP_comp_merge.groupby('GVKEY')['ajexm'].shift(36)"
   ]
  },
  {
   "cell_type": "code",
   "execution_count": 33,
   "metadata": {
    "code_folding": [
     0
    ],
    "collapsed": true
   },
   "outputs": [],
   "source": [
    "# CRSP - Enrich -  Past (TRFM -- Monthly Total Return Factor) 1 – 36 months\n",
    "CRSP_comp_merge['past_one_month_trfm'] = CRSP_comp_merge.groupby('GVKEY')['trfm'].shift(1)\n",
    "CRSP_comp_merge['past_two_month_trfm'] = CRSP_comp_merge.groupby('GVKEY')['trfm'].shift(2)\n",
    "CRSP_comp_merge['past_three_month_trfm'] = CRSP_comp_merge.groupby('GVKEY')['trfm'].shift(3)\n",
    "CRSP_comp_merge['past_four_month_trfm'] = CRSP_comp_merge.groupby('GVKEY')['trfm'].shift(4)\n",
    "CRSP_comp_merge['past_five_month_trfm'] = CRSP_comp_merge.groupby('GVKEY')['trfm'].shift(5)\n",
    "CRSP_comp_merge['past_six_month_trfm'] = CRSP_comp_merge.groupby('GVKEY')['trfm'].shift(6)\n",
    "CRSP_comp_merge['past_seven_month_trfm'] = CRSP_comp_merge.groupby('GVKEY')['trfm'].shift(7)\n",
    "CRSP_comp_merge['past_eight_month_trfm'] = CRSP_comp_merge.groupby('GVKEY')['trfm'].shift(8)\n",
    "CRSP_comp_merge['past_nine_month_trfm'] = CRSP_comp_merge.groupby('GVKEY')['trfm'].shift(9)\n",
    "CRSP_comp_merge['past_ten_month_trfm'] = CRSP_comp_merge.groupby('GVKEY')['trfm'].shift(10)\n",
    "CRSP_comp_merge['past_eleven_month_trfm'] = CRSP_comp_merge.groupby('GVKEY')['trfm'].shift(11)\n",
    "CRSP_comp_merge['past_twelve_month_trfm'] = CRSP_comp_merge.groupby('GVKEY')['trfm'].shift(12)\n",
    "CRSP_comp_merge['past_thirteen_month_trfm'] = CRSP_comp_merge.groupby('GVKEY')['trfm'].shift(13)\n",
    "CRSP_comp_merge['past_fourteen_month_trfm'] = CRSP_comp_merge.groupby('GVKEY')['trfm'].shift(14)\n",
    "CRSP_comp_merge['past_fifteen_month_trfm'] = CRSP_comp_merge.groupby('GVKEY')['trfm'].shift(15)\n",
    "CRSP_comp_merge['past_sixteen_month_trfm'] = CRSP_comp_merge.groupby('GVKEY')['trfm'].shift(16)\n",
    "CRSP_comp_merge['past_seventeen_month_trfm'] = CRSP_comp_merge.groupby('GVKEY')['trfm'].shift(17)\n",
    "CRSP_comp_merge['past_eighteen_month_trfm'] = CRSP_comp_merge.groupby('GVKEY')['trfm'].shift(18)\n",
    "CRSP_comp_merge['past_nineteen_month_trfm'] = CRSP_comp_merge.groupby('GVKEY')['trfm'].shift(19)\n",
    "CRSP_comp_merge['past_twenty_month_trfm'] = CRSP_comp_merge.groupby('GVKEY')['trfm'].shift(20)\n",
    "CRSP_comp_merge['past_twentyone_month_trfm'] = CRSP_comp_merge.groupby('GVKEY')['trfm'].shift(21)\n",
    "CRSP_comp_merge['past_twentytwo_month_trfm'] = CRSP_comp_merge.groupby('GVKEY')['trfm'].shift(22)\n",
    "CRSP_comp_merge['past_twentythree_month_trfm'] = CRSP_comp_merge.groupby('GVKEY')['trfm'].shift(23)\n",
    "CRSP_comp_merge['past_twentyfour_month_trfm'] = CRSP_comp_merge.groupby('GVKEY')['trfm'].shift(24)\n",
    "CRSP_comp_merge['past_twentyfive_month_trfm'] = CRSP_comp_merge.groupby('GVKEY')['trfm'].shift(25)\n",
    "CRSP_comp_merge['past_twentysix_month_trfm'] = CRSP_comp_merge.groupby('GVKEY')['trfm'].shift(26)\n",
    "CRSP_comp_merge['past_twentyseven_month_trfm'] = CRSP_comp_merge.groupby('GVKEY')['trfm'].shift(27)\n",
    "CRSP_comp_merge['past_twentyeight_month_trfm'] = CRSP_comp_merge.groupby('GVKEY')['trfm'].shift(28)\n",
    "CRSP_comp_merge['past_twentynine_month_trfm'] = CRSP_comp_merge.groupby('GVKEY')['trfm'].shift(29)\n",
    "CRSP_comp_merge['past_thirty_month_trfm'] = CRSP_comp_merge.groupby('GVKEY')['trfm'].shift(30)\n",
    "CRSP_comp_merge['past_thirtyone_month_trfm'] = CRSP_comp_merge.groupby('GVKEY')['trfm'].shift(31)\n",
    "CRSP_comp_merge['past_thirtytwo_month_trfm'] = CRSP_comp_merge.groupby('GVKEY')['trfm'].shift(32)\n",
    "CRSP_comp_merge['past_thirtythree_month_trfm'] = CRSP_comp_merge.groupby('GVKEY')['trfm'].shift(33)\n",
    "CRSP_comp_merge['past_thirtyfour_month_trfm'] = CRSP_comp_merge.groupby('GVKEY')['trfm'].shift(34)\n",
    "CRSP_comp_merge['past_thirtyfive_month_trfm'] = CRSP_comp_merge.groupby('GVKEY')['trfm'].shift(35)\n",
    "CRSP_comp_merge['past_thirtysix_month_trfm'] = CRSP_comp_merge.groupby('GVKEY')['trfm'].shift(36)"
   ]
  },
  {
   "cell_type": "code",
   "execution_count": 34,
   "metadata": {
    "code_folding": [
     0
    ],
    "collapsed": true
   },
   "outputs": [],
   "source": [
    "# CRSP - Enrich -  Past Return over number of months (1 - 36)\n",
    "CRSP_comp_merge['past_one_month_return'] = ((((CRSP_comp_merge['prccm']/CRSP_comp_merge['ajexm'])*CRSP_comp_merge['past_one_month_trfm'])/((CRSP_comp_merge['past_one_month_prccm']/CRSP_comp_merge['past_one_month_ajexm'])*CRSP_comp_merge['past_one_month_trfm']))-1)*100\n",
    "CRSP_comp_merge['past_two_month_return'] = ((((CRSP_comp_merge['prccm']/CRSP_comp_merge['ajexm'])*CRSP_comp_merge['past_two_month_trfm'])/((CRSP_comp_merge['past_two_month_prccm']/CRSP_comp_merge['past_two_month_ajexm'])*CRSP_comp_merge['past_two_month_trfm']))-1)*100\n",
    "CRSP_comp_merge['past_three_month_return'] = ((((CRSP_comp_merge['prccm']/CRSP_comp_merge['ajexm'])*CRSP_comp_merge['past_three_month_trfm'])/((CRSP_comp_merge['past_three_month_prccm']/CRSP_comp_merge['past_three_month_ajexm'])*CRSP_comp_merge['past_three_month_trfm']))-1)*100\n",
    "CRSP_comp_merge['past_four_month_return'] = ((((CRSP_comp_merge['prccm']/CRSP_comp_merge['ajexm'])*CRSP_comp_merge['past_four_month_trfm'])/((CRSP_comp_merge['past_four_month_prccm']/CRSP_comp_merge['past_four_month_ajexm'])*CRSP_comp_merge['past_four_month_trfm']))-1)*100\n",
    "CRSP_comp_merge['past_five_month_return'] = ((((CRSP_comp_merge['prccm']/CRSP_comp_merge['ajexm'])*CRSP_comp_merge['past_five_month_trfm'])/((CRSP_comp_merge['past_five_month_prccm']/CRSP_comp_merge['past_five_month_ajexm'])*CRSP_comp_merge['past_five_month_trfm']))-1)*100\n",
    "CRSP_comp_merge['past_six_month_return'] = ((((CRSP_comp_merge['prccm']/CRSP_comp_merge['ajexm'])*CRSP_comp_merge['past_six_month_trfm'])/((CRSP_comp_merge['past_six_month_prccm']/CRSP_comp_merge['past_six_month_ajexm'])*CRSP_comp_merge['past_six_month_trfm']))-1)*100\n",
    "CRSP_comp_merge['past_seven_month_return'] = ((((CRSP_comp_merge['prccm']/CRSP_comp_merge['ajexm'])*CRSP_comp_merge['past_seven_month_trfm'])/((CRSP_comp_merge['past_seven_month_prccm']/CRSP_comp_merge['past_seven_month_ajexm'])*CRSP_comp_merge['past_seven_month_trfm']))-1)*100\n",
    "CRSP_comp_merge['past_eight_month_return'] = ((((CRSP_comp_merge['prccm']/CRSP_comp_merge['ajexm'])*CRSP_comp_merge['past_eight_month_trfm'])/((CRSP_comp_merge['past_eight_month_prccm']/CRSP_comp_merge['past_eight_month_ajexm'])*CRSP_comp_merge['past_eight_month_trfm']))-1)*100\n",
    "CRSP_comp_merge['past_nine_month_return'] = ((((CRSP_comp_merge['prccm']/CRSP_comp_merge['ajexm'])*CRSP_comp_merge['past_nine_month_trfm'])/((CRSP_comp_merge['past_nine_month_prccm']/CRSP_comp_merge['past_nine_month_ajexm'])*CRSP_comp_merge['past_nine_month_trfm']))-1)*100\n",
    "CRSP_comp_merge['past_ten_month_return'] = ((((CRSP_comp_merge['prccm']/CRSP_comp_merge['ajexm'])*CRSP_comp_merge['past_ten_month_trfm'])/((CRSP_comp_merge['past_ten_month_prccm']/CRSP_comp_merge['past_ten_month_ajexm'])*CRSP_comp_merge['past_ten_month_trfm']))-1)*100\n",
    "CRSP_comp_merge['past_eleven_month_return'] = ((((CRSP_comp_merge['prccm']/CRSP_comp_merge['ajexm'])*CRSP_comp_merge['past_eleven_month_trfm'])/((CRSP_comp_merge['past_eleven_month_prccm']/CRSP_comp_merge['past_eleven_month_ajexm'])*CRSP_comp_merge['past_eleven_month_trfm']))-1)*100\n",
    "CRSP_comp_merge['past_twelve_month_return'] = ((((CRSP_comp_merge['prccm']/CRSP_comp_merge['ajexm'])*CRSP_comp_merge['past_twelve_month_trfm'])/((CRSP_comp_merge['past_twelve_month_prccm']/CRSP_comp_merge['past_twelve_month_ajexm'])*CRSP_comp_merge['past_twelve_month_trfm']))-1)*100\n",
    "CRSP_comp_merge['past_thirteen_month_return'] = ((((CRSP_comp_merge['prccm']/CRSP_comp_merge['ajexm'])*CRSP_comp_merge['past_thirteen_month_trfm'])/((CRSP_comp_merge['past_thirteen_month_prccm']/CRSP_comp_merge['past_thirteen_month_ajexm'])*CRSP_comp_merge['past_thirteen_month_trfm']))-1)*100\n",
    "CRSP_comp_merge['past_fourteen_month_return'] = ((((CRSP_comp_merge['prccm']/CRSP_comp_merge['ajexm'])*CRSP_comp_merge['past_fourteen_month_trfm'])/((CRSP_comp_merge['past_fourteen_month_prccm']/CRSP_comp_merge['past_fourteen_month_ajexm'])*CRSP_comp_merge['past_fourteen_month_trfm']))-1)*100\n",
    "CRSP_comp_merge['past_fifteen_month_return'] = ((((CRSP_comp_merge['prccm']/CRSP_comp_merge['ajexm'])*CRSP_comp_merge['past_fifteen_month_trfm'])/((CRSP_comp_merge['past_fifteen_month_prccm']/CRSP_comp_merge['past_fifteen_month_ajexm'])*CRSP_comp_merge['past_fifteen_month_trfm']))-1)*100\n",
    "CRSP_comp_merge['past_sixteen_month_return'] = ((((CRSP_comp_merge['prccm']/CRSP_comp_merge['ajexm'])*CRSP_comp_merge['past_sixteen_month_trfm'])/((CRSP_comp_merge['past_sixteen_month_prccm']/CRSP_comp_merge['past_sixteen_month_ajexm'])*CRSP_comp_merge['past_sixteen_month_trfm']))-1)*100\n",
    "CRSP_comp_merge['past_seventeen_month_return'] = ((((CRSP_comp_merge['prccm']/CRSP_comp_merge['ajexm'])*CRSP_comp_merge['past_seventeen_month_trfm'])/((CRSP_comp_merge['past_seventeen_month_prccm']/CRSP_comp_merge['past_seventeen_month_ajexm'])*CRSP_comp_merge['past_seventeen_month_trfm']))-1)*100\n",
    "CRSP_comp_merge['past_eighteen_month_return'] = ((((CRSP_comp_merge['prccm']/CRSP_comp_merge['ajexm'])*CRSP_comp_merge['past_eighteen_month_trfm'])/((CRSP_comp_merge['past_eighteen_month_prccm']/CRSP_comp_merge['past_eighteen_month_ajexm'])*CRSP_comp_merge['past_eighteen_month_trfm']))-1)*100\n",
    "CRSP_comp_merge['past_nineteen_month_return'] = ((((CRSP_comp_merge['prccm']/CRSP_comp_merge['ajexm'])*CRSP_comp_merge['past_nineteen_month_trfm'])/((CRSP_comp_merge['past_nineteen_month_prccm']/CRSP_comp_merge['past_nineteen_month_ajexm'])*CRSP_comp_merge['past_nineteen_month_trfm']))-1)*100\n",
    "CRSP_comp_merge['past_twenty_month_return'] = ((((CRSP_comp_merge['prccm']/CRSP_comp_merge['ajexm'])*CRSP_comp_merge['past_twenty_month_trfm'])/((CRSP_comp_merge['past_twenty_month_prccm']/CRSP_comp_merge['past_twenty_month_ajexm'])*CRSP_comp_merge['past_twenty_month_trfm']))-1)*100\n",
    "CRSP_comp_merge['past_twentyone_month_return'] = ((((CRSP_comp_merge['prccm']/CRSP_comp_merge['ajexm'])*CRSP_comp_merge['past_twentyone_month_trfm'])/((CRSP_comp_merge['past_twentyone_month_prccm']/CRSP_comp_merge['past_twentyone_month_ajexm'])*CRSP_comp_merge['past_twentyone_month_trfm']))-1)*100\n",
    "CRSP_comp_merge['past_twentytwo_month_return'] = ((((CRSP_comp_merge['prccm']/CRSP_comp_merge['ajexm'])*CRSP_comp_merge['past_twentytwo_month_trfm'])/((CRSP_comp_merge['past_twentytwo_month_prccm']/CRSP_comp_merge['past_twentytwo_month_ajexm'])*CRSP_comp_merge['past_twentytwo_month_trfm']))-1)*100\n",
    "CRSP_comp_merge['past_twentythree_month_return'] = ((((CRSP_comp_merge['prccm']/CRSP_comp_merge['ajexm'])*CRSP_comp_merge['past_twentythree_month_trfm'])/((CRSP_comp_merge['past_twentythree_month_prccm']/CRSP_comp_merge['past_twentythree_month_ajexm'])*CRSP_comp_merge['past_twentythree_month_trfm']))-1)*100\n",
    "CRSP_comp_merge['past_twentyfour_month_return'] = ((((CRSP_comp_merge['prccm']/CRSP_comp_merge['ajexm'])*CRSP_comp_merge['past_twentyfour_month_trfm'])/((CRSP_comp_merge['past_twentyfour_month_prccm']/CRSP_comp_merge['past_twentyfour_month_ajexm'])*CRSP_comp_merge['past_twentyfour_month_trfm']))-1)*100\n",
    "CRSP_comp_merge['past_twentyfive_month_return'] = ((((CRSP_comp_merge['prccm']/CRSP_comp_merge['ajexm'])*CRSP_comp_merge['past_twentyfive_month_trfm'])/((CRSP_comp_merge['past_twentyfive_month_prccm']/CRSP_comp_merge['past_twentyfive_month_ajexm'])*CRSP_comp_merge['past_twentyfive_month_trfm']))-1)*100\n",
    "CRSP_comp_merge['past_twentysix_month_return'] = ((((CRSP_comp_merge['prccm']/CRSP_comp_merge['ajexm'])*CRSP_comp_merge['past_twentysix_month_trfm'])/((CRSP_comp_merge['past_twentysix_month_prccm']/CRSP_comp_merge['past_twentysix_month_ajexm'])*CRSP_comp_merge['past_twentysix_month_trfm']))-1)*100\n",
    "CRSP_comp_merge['past_twentyseven_month_return'] = ((((CRSP_comp_merge['prccm']/CRSP_comp_merge['ajexm'])*CRSP_comp_merge['past_twentyseven_month_trfm'])/((CRSP_comp_merge['past_twentyseven_month_prccm']/CRSP_comp_merge['past_twentyseven_month_ajexm'])*CRSP_comp_merge['past_twentyseven_month_trfm']))-1)*100\n",
    "CRSP_comp_merge['past_twentyeight_month_return'] = ((((CRSP_comp_merge['prccm']/CRSP_comp_merge['ajexm'])*CRSP_comp_merge['past_twentyeight_month_trfm'])/((CRSP_comp_merge['past_twentyeight_month_prccm']/CRSP_comp_merge['past_twentyeight_month_ajexm'])*CRSP_comp_merge['past_twentyeight_month_trfm']))-1)*100\n",
    "CRSP_comp_merge['past_twentynine_month_return'] = ((((CRSP_comp_merge['prccm']/CRSP_comp_merge['ajexm'])*CRSP_comp_merge['past_twentynine_month_trfm'])/((CRSP_comp_merge['past_twentynine_month_prccm']/CRSP_comp_merge['past_twentynine_month_ajexm'])*CRSP_comp_merge['past_twentynine_month_trfm']))-1)*100\n",
    "CRSP_comp_merge['past_thirty_month_return'] = ((((CRSP_comp_merge['prccm']/CRSP_comp_merge['ajexm'])*CRSP_comp_merge['past_thirty_month_trfm'])/((CRSP_comp_merge['past_thirty_month_prccm']/CRSP_comp_merge['past_thirty_month_ajexm'])*CRSP_comp_merge['past_thirty_month_trfm']))-1)*100\n",
    "CRSP_comp_merge['past_thirtyone_month_return'] = ((((CRSP_comp_merge['prccm']/CRSP_comp_merge['ajexm'])*CRSP_comp_merge['past_thirtyone_month_trfm'])/((CRSP_comp_merge['past_thirtyone_month_prccm']/CRSP_comp_merge['past_thirtyone_month_ajexm'])*CRSP_comp_merge['past_thirtyone_month_trfm']))-1)*100\n",
    "CRSP_comp_merge['past_thirtytwo_month_return'] = ((((CRSP_comp_merge['prccm']/CRSP_comp_merge['ajexm'])*CRSP_comp_merge['past_thirtytwo_month_trfm'])/((CRSP_comp_merge['past_thirtytwo_month_prccm']/CRSP_comp_merge['past_thirtytwo_month_ajexm'])*CRSP_comp_merge['past_thirtytwo_month_trfm']))-1)*100\n",
    "CRSP_comp_merge['past_thirtythree_month_return'] = ((((CRSP_comp_merge['prccm']/CRSP_comp_merge['ajexm'])*CRSP_comp_merge['past_thirtythree_month_trfm'])/((CRSP_comp_merge['past_thirtythree_month_prccm']/CRSP_comp_merge['past_thirtythree_month_ajexm'])*CRSP_comp_merge['past_thirtythree_month_trfm']))-1)*100\n",
    "CRSP_comp_merge['past_thirtyfour_month_return'] = ((((CRSP_comp_merge['prccm']/CRSP_comp_merge['ajexm'])*CRSP_comp_merge['past_thirtyfour_month_trfm'])/((CRSP_comp_merge['past_thirtyfour_month_prccm']/CRSP_comp_merge['past_thirtyfour_month_ajexm'])*CRSP_comp_merge['past_thirtyfour_month_trfm']))-1)*100\n",
    "CRSP_comp_merge['past_thirtyfive_month_return'] = ((((CRSP_comp_merge['prccm']/CRSP_comp_merge['ajexm'])*CRSP_comp_merge['past_thirtyfive_month_trfm'])/((CRSP_comp_merge['past_thirtyfive_month_prccm']/CRSP_comp_merge['past_thirtyfive_month_ajexm'])*CRSP_comp_merge['past_thirtyfive_month_trfm']))-1)*100\n",
    "CRSP_comp_merge['past_thirtysix_month_return'] = ((((CRSP_comp_merge['prccm']/CRSP_comp_merge['ajexm'])*CRSP_comp_merge['past_thirtysix_month_trfm'])/((CRSP_comp_merge['past_thirtysix_month_prccm']/CRSP_comp_merge['past_thirtysix_month_ajexm'])*CRSP_comp_merge['past_thirtysix_month_trfm']))-1)*100"
   ]
  },
  {
   "cell_type": "code",
   "execution_count": 35,
   "metadata": {
    "code_folding": [],
    "collapsed": false
   },
   "outputs": [],
   "source": [
    "# Merge - df & CRSP\n",
    "df = df.merge(CRSP_comp_merge, on='GVKEY-year-month', how='left', suffixes=('', '_y'))"
   ]
  },
  {
   "cell_type": "code",
   "execution_count": null,
   "metadata": {
    "collapsed": true
   },
   "outputs": [],
   "source": [
    "# Release Memory\n",
    "del CRSP_comp_merge"
   ]
  },
  {
   "cell_type": "code",
   "execution_count": null,
   "metadata": {
    "code_folding": [
     0
    ],
    "collapsed": true
   },
   "outputs": [],
   "source": [
    "# df - Clean - Remove duplicate features\n",
    "drop_dups(df)"
   ]
  },
  {
   "cell_type": "code",
   "execution_count": null,
   "metadata": {
    "code_folding": [
     0
    ],
    "collapsed": false
   },
   "outputs": [],
   "source": [
    "# Recommendations - Load\n",
    "# Summary Statistics (Consensus Recommendations) from Wharton\n",
    "recommendations = pd.read_csv('c:/users/sconner/Desktop/W205_Final/sample_data/Recommendations_Summary_Statistics.csv', low_memory=False)"
   ]
  },
  {
   "cell_type": "code",
   "execution_count": null,
   "metadata": {
    "code_folding": [
     0
    ],
    "collapsed": false
   },
   "outputs": [],
   "source": [
    "# Recommendations - Enrich - Time Features\n",
    "recommendations['STATPERS'] = pd.to_datetime(recommendations['STATPERS'])\n",
    "# Create year\n",
    "recommendations['year'] = recommendations['STATPERS'].dt.year\n",
    "# Create month\n",
    "recommendations['month'] = recommendations['STATPERS'].dt.month\n",
    "# Creat year-month\n",
    "recommendations[\"year-month\"] = recommendations['STATPERS'].apply(lambda x: x.strftime('%Y-%m'))"
   ]
  },
  {
   "cell_type": "code",
   "execution_count": null,
   "metadata": {
    "code_folding": [
     0
    ],
    "collapsed": true
   },
   "outputs": [],
   "source": [
    "# Recommendations - Enrich - Analyst Change\n",
    "recommendations[\"recup\"] = recommendations[\"NUMUP\"] / recommendations[\"NUMREC\"] \n",
    "recommendations[\"recdown\"] = recommendations[\"NUMDOWN\"] / recommendations[\"NUMREC\"]"
   ]
  },
  {
   "cell_type": "code",
   "execution_count": null,
   "metadata": {
    "code_folding": [
     0
    ],
    "collapsed": true
   },
   "outputs": [],
   "source": [
    "# Recommendations - Enrich - Time-based Unique Identifiers\n",
    "recommendations[\"TIC-year-month\"] = recommendations[\"OFTIC\"].map(str) + \"-\" + recommendations[\"year-month\"]"
   ]
  },
  {
   "cell_type": "code",
   "execution_count": null,
   "metadata": {
    "code_folding": [
     0
    ],
    "collapsed": false
   },
   "outputs": [],
   "source": [
    "# Merge - df & Recommendations\n",
    "df = df.merge(recommendations, on='TIC-year-month', how='left', suffixes=('', '_y'))\n",
    "# Release Memory\n",
    "del recommendations"
   ]
  },
  {
   "cell_type": "code",
   "execution_count": null,
   "metadata": {
    "code_folding": [
     0
    ],
    "collapsed": true
   },
   "outputs": [],
   "source": [
    "# df - Clean - Remove duplicate features\n",
    "drop_dups(df)"
   ]
  },
  {
   "cell_type": "code",
   "execution_count": null,
   "metadata": {
    "code_folding": [
     0
    ],
    "collapsed": false
   },
   "outputs": [],
   "source": [
    "# Beta Suite - Load\n",
    "beta_suite = pd.read_csv('c:/users/sconner/Desktop/W205_Final/sample_data/Beta_Suite.csv', low_memory=False)"
   ]
  },
  {
   "cell_type": "code",
   "execution_count": null,
   "metadata": {
    "code_folding": [
     0
    ],
    "collapsed": true
   },
   "outputs": [],
   "source": [
    "# Beta Suite - Enrich - Time Features\n",
    "# Convert to data-time\n",
    "beta_suite['DATE'] = pd.to_datetime(beta_suite['DATE'])\n",
    "# Create year\n",
    "beta_suite['year'] = beta_suite['DATE'].dt.year\n",
    "# Create month\n",
    "beta_suite['month'] = beta_suite['DATE'].dt.month\n",
    "# Create year-month\n",
    "beta_suite[\"year-month\"] = beta_suite['DATE'].apply(lambda x: x.strftime('%Y-%m'))"
   ]
  },
  {
   "cell_type": "code",
   "execution_count": null,
   "metadata": {
    "code_folding": [
     0
    ],
    "collapsed": true
   },
   "outputs": [],
   "source": [
    "# Beta Suite - Enrich - Time-based Unique Identifiers\n",
    "beta_suite[\"PERMNO-year-month\"] = beta_suite[\"PERMNO\"].map(str) + \"-\" + beta_suite[\"year-month\"]"
   ]
  },
  {
   "cell_type": "code",
   "execution_count": null,
   "metadata": {
    "code_folding": [
     0
    ],
    "collapsed": true
   },
   "outputs": [],
   "source": [
    "# Merge - df & Beta Suite\n",
    "df = df.merge(beta_suite, on='PERMNO-year-month', how='left', suffixes=('', '_y'))\n",
    "# Release Memory\n",
    "del beta_suite"
   ]
  },
  {
   "cell_type": "code",
   "execution_count": null,
   "metadata": {
    "code_folding": [
     0
    ],
    "collapsed": true
   },
   "outputs": [],
   "source": [
    "# df - Clean - Remove duplicate features\n",
    "drop_dups(df)"
   ]
  },
  {
   "cell_type": "code",
   "execution_count": null,
   "metadata": {
    "code_folding": [
     0
    ],
    "collapsed": false
   },
   "outputs": [],
   "source": [
    "# Sector - Enrich\n",
    "# https://en.wikipedia.org/wiki/Global_Industry_Classification_Standard\n",
    "\n",
    "sector = pd.DataFrame()\n",
    "\n",
    "sector['GSECTOR'] = [10.0, \n",
    "                       15.0, \n",
    "                       20.0, \n",
    "                       25.0, \n",
    "                       30.0, \n",
    "                       35.0, \n",
    "                       40.0, \n",
    "                       45.0, \n",
    "                       50.0, \n",
    "                       55.0, \n",
    "                       60.0]\n",
    "\n",
    "sector['sector'] = ['Energy', \n",
    "                        'Materials', \n",
    "                        'Industrials', \n",
    "                        'Consumer Discretionary', \n",
    "                        'Consumer Staples', \n",
    "                        'Health Care', \n",
    "                        'Financials', \n",
    "                        'Information Technology', \n",
    "                        'Telecommunication Services', \n",
    "                        'Utilities', \n",
    "                        'Real Estate']"
   ]
  },
  {
   "cell_type": "code",
   "execution_count": null,
   "metadata": {
    "code_folding": [
     0
    ],
    "collapsed": true
   },
   "outputs": [],
   "source": [
    "# Merge - df & Sector\n",
    "df = df.merge(sector, on='GSECTOR', how='left', suffixes=('', '_y'))\n",
    "# Release Memory\n",
    "del sector"
   ]
  },
  {
   "cell_type": "code",
   "execution_count": null,
   "metadata": {
    "code_folding": [
     0
    ],
    "collapsed": true
   },
   "outputs": [],
   "source": [
    "# df - Clean - Remove duplicate features\n",
    "drop_dups(df)"
   ]
  },
  {
   "cell_type": "code",
   "execution_count": null,
   "metadata": {
    "code_folding": [
     0
    ],
    "collapsed": true
   },
   "outputs": [],
   "source": [
    "# df - Enrich - Time Features\n",
    "df['january'] = np.where(df['month'] == 1, int(1), int(0))\n",
    "df['february'] = np.where(df['month'] == 2, int(1), int(0))\n",
    "df['march'] = np.where(df['month'] == 3, int(1), int(0))\n",
    "df['april'] = np.where(df['month'] == 4, int(1), int(0))\n",
    "df['may'] = np.where(df['month'] == 5, int(1), int(0))\n",
    "df['june'] = np.where(df['month'] == 6, int(1), int(0))\n",
    "df['july'] = np.where(df['month'] == 7, int(1), int(0))\n",
    "df['august'] = np.where(df['month'] == 8, int(1), int(0))\n",
    "df['september'] = np.where(df['month'] == 9, int(1), int(0))\n",
    "df['october'] = np.where(df['month'] == 10, int(1), int(0))\n",
    "df['november'] = np.where(df['month'] == 11, int(1), int(0))\n",
    "df['december'] = np.where(df['month'] == 12, int(1), int(0))"
   ]
  },
  {
   "cell_type": "code",
   "execution_count": null,
   "metadata": {
    "code_folding": [
     0
    ],
    "collapsed": false
   },
   "outputs": [],
   "source": [
    "# df - Subset - Relevant features with adequate data\n",
    "\n",
    "df = df[[\n",
    "        'GVKEY', \n",
    "        'sector',\n",
    "        'year-month', \n",
    "        'forward_one_month_return', \n",
    "        'forward_two_month_return', \n",
    "        'forward_three_month_return', \n",
    "        'forward_four_month_return', \n",
    "        'forward_five_month_return', \n",
    "        'forward_six_month_return', \n",
    "        'forward_seven_month_return', \n",
    "        'forward_eight_month_return', \n",
    "        'forward_nine_month_return', \n",
    "        'forward_ten_month_return', \n",
    "        'forward_eleven_month_return', \n",
    "        'forward_twelve_month_return', \n",
    "        'forward_thirteen_month_return', \n",
    "        'forward_fourteen_month_return', \n",
    "        'forward_fifteen_month_return', \n",
    "        'forward_sixteen_month_return', \n",
    "        'forward_seventeen_month_return', \n",
    "        'forward_eighteen_month_return', \n",
    "        'forward_nineteen_month_return', \n",
    "        'forward_twenty_month_return', \n",
    "        'forward_twentyone_month_return', \n",
    "        'forward_twentytwo_month_return', \n",
    "        'forward_twentythree_month_return', \n",
    "        'forward_twentyfour_month_return', \n",
    "        'forward_twentyfive_month_return', \n",
    "        'forward_twentysix_month_return', \n",
    "        'forward_twentyseven_month_return', \n",
    "        'forward_twentyeight_month_return', \n",
    "        'forward_twentynine_month_return', \n",
    "        'forward_thirty_month_return', \n",
    "        'forward_thirtyone_month_return', \n",
    "        'forward_thirtytwo_month_return', \n",
    "        'forward_thirtythree_month_return', \n",
    "        'forward_thirtyfour_month_return', \n",
    "        'forward_thirtyfive_month_return', \n",
    "        'forward_thirtysix_month_return', \n",
    "        'past_one_month_return', \n",
    "        'past_two_month_return', \n",
    "        'past_three_month_return', \n",
    "        'past_four_month_return', \n",
    "        'past_five_month_return', \n",
    "        'past_six_month_return', \n",
    "        'past_seven_month_return', \n",
    "        'past_eight_month_return', \n",
    "        'past_nine_month_return', \n",
    "        'past_ten_month_return', \n",
    "        'past_eleven_month_return', \n",
    "        'past_twelve_month_return', \n",
    "        'past_thirteen_month_return', \n",
    "        'past_fourteen_month_return', \n",
    "        'past_fifteen_month_return', \n",
    "        'past_sixteen_month_return', \n",
    "        'past_seventeen_month_return', \n",
    "        'past_eighteen_month_return', \n",
    "        'past_nineteen_month_return', \n",
    "        'past_twenty_month_return', \n",
    "        'past_twentyone_month_return', \n",
    "        'past_twentytwo_month_return', \n",
    "        'past_twentythree_month_return', \n",
    "        'past_twentyfour_month_return', \n",
    "        'past_twentyfive_month_return', \n",
    "        'past_twentysix_month_return', \n",
    "        'past_twentyseven_month_return', \n",
    "        'past_twentyeight_month_return', \n",
    "        'past_twentynine_month_return', \n",
    "        'past_thirty_month_return', \n",
    "        'past_thirtyone_month_return', \n",
    "        'past_thirtytwo_month_return', \n",
    "        'past_thirtythree_month_return', \n",
    "        'past_thirtyfour_month_return', \n",
    "        'past_thirtyfive_month_return', \n",
    "        'past_thirtysix_month_return', \n",
    "        'accrual', \n",
    "        'adv_sale', \n",
    "        'aftret_eq', \n",
    "        'aftret_equity', \n",
    "        'aftret_invcapx', \n",
    "        'at_turn', \n",
    "        'bm', \n",
    "        'CAPEI', \n",
    "        'capital_ratio', \n",
    "        'cash_conversion', \n",
    "        'cash_debt', \n",
    "        'cash_lt', \n",
    "        'cash_ratio', \n",
    "        'cfm', \n",
    "        'curr_debt', \n",
    "        'curr_ratio', \n",
    "        'de_ratio', \n",
    "        'debt_assets', \n",
    "        'debt_at', \n",
    "        'debt_capital', \n",
    "        'debt_ebitda', \n",
    "        'debt_invcap', \n",
    "        'DIVYIELD', \n",
    "        'dltt_be', \n",
    "        'dpr', \n",
    "        'efftax', \n",
    "        'equity_invcap', \n",
    "        'evm', \n",
    "        'fcf_ocf', \n",
    "        'gpm', \n",
    "        'GProf', \n",
    "        'int_debt', \n",
    "        'int_totdebt', \n",
    "        'intcov', \n",
    "        'intcov_ratio', \n",
    "        'inv_turn', \n",
    "        'invt_act', \n",
    "        'lt_debt', \n",
    "        'lt_ppent', \n",
    "        'npm', \n",
    "        'ocf_lct', \n",
    "        'opmad', \n",
    "        'opmbd', \n",
    "        'pay_turn', \n",
    "        'pcf', \n",
    "        'pe_exi', \n",
    "        'pe_inc', \n",
    "        'pe_op_basic', \n",
    "        'pe_op_dil', \n",
    "        'PEG_1yrforward', \n",
    "        'PEG_ltgforward', \n",
    "        'PEG_trailing', \n",
    "        'pretret_earnat', \n",
    "        'pretret_noa', \n",
    "        'profit_lct', \n",
    "        'ps', \n",
    "        'ptb', \n",
    "        'ptpm', \n",
    "        'quick_ratio', \n",
    "        'rd_sale', \n",
    "        'rect_act', \n",
    "        'rect_turn', \n",
    "        'roa', \n",
    "        'roce', \n",
    "        'roe', \n",
    "        'sale_equity', \n",
    "        'sale_invcap', \n",
    "        'sale_nwc', \n",
    "        'short_debt', \n",
    "        'staff_sale', \n",
    "        'totdebt_invcap', \n",
    "        'dvpspm', \n",
    "        'dvpsxm', \n",
    "        'dvrate', \n",
    "        'spcsrc', \n",
    "        'alpha', \n",
    "        'b_hml', \n",
    "        'b_mkt', \n",
    "        'b_smb', \n",
    "        'b_umd', \n",
    "        'exret', \n",
    "        'ivol', \n",
    "        'n', \n",
    "        'R2', \n",
    "        'tvol', \n",
    "        'BUYPCT', \n",
    "        'HOLDPCT',\n",
    "        'SELLPCT', \n",
    "        'MEANREC', \n",
    "        'MEDREC',\n",
    "        'recup', \n",
    "        'recdown',\n",
    "        'STDEV', \n",
    "        'january', \n",
    "        'february', \n",
    "        'march', \n",
    "        'april', \n",
    "        'may', \n",
    "        'june', \n",
    "        'july', \n",
    "        'august', \n",
    "        'september', \n",
    "        'october', \n",
    "        'november', \n",
    "        'december'\n",
    "        ]]"
   ]
  },
  {
   "cell_type": "code",
   "execution_count": null,
   "metadata": {
    "code_folding": [
     0
    ],
    "collapsed": false
   },
   "outputs": [],
   "source": [
    "# # df - Clean - Dividends - DIVYIELD, dvpspm, dvpsxm, & dvrate\n",
    "# # Companies who do not report dividends are unlikely to have paid dividends, the majority of companies do not pay as well.\n",
    "df['DIVYIELD'] = df['DIVYIELD'].replace('%','',regex=True).astype('float')/100\n",
    "df['DIVYIELD'] = pd.to_numeric(df['DIVYIELD'])\n",
    "df['DIVYIELD'] = df['DIVYIELD'].fillna(0)\n",
    "\n",
    "df['dvpspm'] = df['dvpspm'].fillna(0)\n",
    "df['dvpspm'] = pd.to_numeric(df['dvpspm'])\n",
    "df['dvpsxm'] = df['dvpsxm'].fillna(0)\n",
    "df['dvpsxm'] = pd.to_numeric(df['dvpsxm'])\n",
    "df['dvrate'] = df['dvrate'].fillna(0)\n",
    "df['dvrate'] = pd.to_numeric(df['dvrate'])"
   ]
  },
  {
   "cell_type": "code",
   "execution_count": null,
   "metadata": {
    "code_folding": [
     0
    ],
    "collapsed": true
   },
   "outputs": [],
   "source": [
    "# df - Clean - Ratings - SPCSRC\n",
    "# Per S&P Quality Rankings information; \n",
    "# A+ - 98-100 percentile (Highest, 2%)\n",
    "# A - 92-98 percentile (High, 6%) \n",
    "# A- - 86-92 percentile (Above Average, 6%) \n",
    "# B+ - 70-86 percentile (Average, 16%) \n",
    "# B - 51-70 percentile (Below Average, 19%)\n",
    "# B- - 25-51 percentile (Lower, 26%)\n",
    "# C - 1-25 percentile (Lowest, 24%)\n",
    "# D - 0-1 percentile (In Reorganization, 1%) \n",
    "\n",
    "# Using the average of percentile ranges above\n",
    "\n",
    "df['spcsrc'] = df['spcsrc'].map({\n",
    "                                'A+': 99,\n",
    "                                'A': 95,\n",
    "                                'A-': 89,\n",
    "                                'B+': 79.5,\n",
    "                                'B': 60.5,\n",
    "                                'B-': 38,\n",
    "                                'C': 13,\n",
    "                                'D': 0.5,\n",
    "                                })\n",
    "\n",
    "df['spcsrc'] = pd.to_numeric(df['spcsrc'])"
   ]
  },
  {
   "cell_type": "code",
   "execution_count": null,
   "metadata": {
    "code_folding": [
     0
    ],
    "collapsed": true
   },
   "outputs": [],
   "source": [
    "# df - Clean - Beta Suite - exret, ivol, R2, tvol\n",
    "\n",
    "df['exret'] = df['exret'].replace('%','',regex=True).astype('float')/100\n",
    "df['exret'] = pd.to_numeric(df['exret'])\n",
    "\n",
    "df['ivol'] = df['ivol'].replace('%','',regex=True).astype('float')/100\n",
    "df['ivol'] = pd.to_numeric(df['ivol'])\n",
    "\n",
    "df['R2'] = df['R2'].replace('%','',regex=True).astype('float')/100\n",
    "df['R2'] = pd.to_numeric(df['R2'])\n",
    "\n",
    "df['tvol'] = df['tvol'].replace('%','',regex=True).astype('float')/100\n",
    "df['tvol'] = pd.to_numeric(df['tvol'])"
   ]
  },
  {
   "cell_type": "code",
   "execution_count": null,
   "metadata": {
    "code_folding": [
     0
    ],
    "collapsed": false
   },
   "outputs": [],
   "source": [
    "# df - Enrich - Market Z-Score\n",
    "df['past_one_month_return_zscore'] = df.groupby(['year-month'])[['past_one_month_return']].apply(modified_z)\n",
    "df['past_two_month_return_zscore'] = df.groupby(['year-month'])[['past_two_month_return']].apply(modified_z)\n",
    "df['past_three_month_return_zscore'] = df.groupby(['year-month'])[['past_three_month_return']].apply(modified_z)\n",
    "df['past_four_month_return_zscore'] = df.groupby(['year-month'])[['past_four_month_return']].apply(modified_z)\n",
    "df['past_five_month_return_zscore'] = df.groupby(['year-month'])[['past_five_month_return']].apply(modified_z)\n",
    "df['past_six_month_return_zscore'] = df.groupby(['year-month'])[['past_six_month_return']].apply(modified_z)\n",
    "df['past_seven_month_return_zscore'] = df.groupby(['year-month'])[['past_seven_month_return']].apply(modified_z)\n",
    "df['past_eight_month_return_zscore'] = df.groupby(['year-month'])[['past_eight_month_return']].apply(modified_z)\n",
    "df['past_nine_month_return_zscore'] = df.groupby(['year-month'])[['past_nine_month_return']].apply(modified_z)\n",
    "df['past_ten_month_return_zscore'] = df.groupby(['year-month'])[['past_ten_month_return']].apply(modified_z)\n",
    "df['past_eleven_month_return_zscore'] = df.groupby(['year-month'])[['past_eleven_month_return']].apply(modified_z)\n",
    "df['past_twelve_month_return_zscore'] = df.groupby(['year-month'])[['past_twelve_month_return']].apply(modified_z)\n",
    "df['past_thirteen_month_return_zscore'] = df.groupby(['year-month'])[['past_thirteen_month_return']].apply(modified_z)\n",
    "df['past_fourteen_month_return_zscore'] = df.groupby(['year-month'])[['past_fourteen_month_return']].apply(modified_z)\n",
    "df['past_fifteen_month_return_zscore'] = df.groupby(['year-month'])[['past_fifteen_month_return']].apply(modified_z)\n",
    "df['past_sixteen_month_return_zscore'] = df.groupby(['year-month'])[['past_sixteen_month_return']].apply(modified_z)\n",
    "df['past_seventeen_month_return_zscore'] = df.groupby(['year-month'])[['past_seventeen_month_return']].apply(modified_z)\n",
    "df['past_eighteen_month_return_zscore'] = df.groupby(['year-month'])[['past_eighteen_month_return']].apply(modified_z)\n",
    "df['past_nineteen_month_return_zscore'] = df.groupby(['year-month'])[['past_nineteen_month_return']].apply(modified_z)\n",
    "df['past_twenty_month_return_zscore'] = df.groupby(['year-month'])[['past_twenty_month_return']].apply(modified_z)\n",
    "df['past_twentyone_month_return_zscore'] = df.groupby(['year-month'])[['past_twentyone_month_return']].apply(modified_z)\n",
    "df['past_twentytwo_month_return_zscore'] = df.groupby(['year-month'])[['past_twentytwo_month_return']].apply(modified_z)\n",
    "df['past_twentythree_month_return_zscore'] = df.groupby(['year-month'])[['past_twentythree_month_return']].apply(modified_z)\n",
    "df['past_twentyfour_month_return_zscore'] = df.groupby(['year-month'])[['past_twentyfour_month_return']].apply(modified_z)\n",
    "df['past_twentyfive_month_return_zscore'] = df.groupby(['year-month'])[['past_twentyfive_month_return']].apply(modified_z)\n",
    "df['past_twentysix_month_return_zscore'] = df.groupby(['year-month'])[['past_twentysix_month_return']].apply(modified_z)\n",
    "df['past_twentyseven_month_return_zscore'] = df.groupby(['year-month'])[['past_twentyseven_month_return']].apply(modified_z)\n",
    "df['past_twentyeight_month_return_zscore'] = df.groupby(['year-month'])[['past_twentyeight_month_return']].apply(modified_z)\n",
    "df['past_twentynine_month_return_zscore'] = df.groupby(['year-month'])[['past_twentynine_month_return']].apply(modified_z)\n",
    "df['past_thirty_month_return_zscore'] = df.groupby(['year-month'])[['past_thirty_month_return']].apply(modified_z)\n",
    "df['past_thirtyone_month_return_zscore'] = df.groupby(['year-month'])[['past_thirtyone_month_return']].apply(modified_z)\n",
    "df['past_thirtytwo_month_return_zscore'] = df.groupby(['year-month'])[['past_thirtytwo_month_return']].apply(modified_z)\n",
    "df['past_thirtythree_month_return_zscore'] = df.groupby(['year-month'])[['past_thirtythree_month_return']].apply(modified_z)\n",
    "df['past_thirtyfour_month_return_zscore'] = df.groupby(['year-month'])[['past_thirtyfour_month_return']].apply(modified_z)\n",
    "df['past_thirtyfive_month_return_zscore'] = df.groupby(['year-month'])[['past_thirtyfive_month_return']].apply(modified_z)\n",
    "df['past_thirtysix_month_return_zscore'] = df.groupby(['year-month'])[['past_thirtysix_month_return']].apply(modified_z)\n",
    "df['accrual_zscore'] = df.groupby(['year-month'])[['accrual']].apply(modified_z)\n",
    "df['adv_sale_zscore'] = df.groupby(['year-month'])[['adv_sale']].apply(modified_z)\n",
    "df['aftret_eq_zscore'] = df.groupby(['year-month'])[['aftret_eq']].apply(modified_z)\n",
    "df['aftret_equity_zscore'] = df.groupby(['year-month'])[['aftret_equity']].apply(modified_z)\n",
    "df['aftret_invcapx_zscore'] = df.groupby(['year-month'])[['aftret_invcapx']].apply(modified_z)\n",
    "df['at_turn_zscore'] = df.groupby(['year-month'])[['at_turn']].apply(modified_z)\n",
    "df['bm_zscore'] = df.groupby(['year-month'])[['bm']].apply(modified_z)\n",
    "df['CAPEI_zscore'] = df.groupby(['year-month'])[['CAPEI']].apply(modified_z)\n",
    "df['capital_ratio_zscore'] = df.groupby(['year-month'])[['capital_ratio']].apply(modified_z)\n",
    "df['cash_conversion_zscore'] = df.groupby(['year-month'])[['cash_conversion']].apply(modified_z)\n",
    "df['cash_debt_zscore'] = df.groupby(['year-month'])[['cash_debt']].apply(modified_z)\n",
    "df['cash_lt_zscore'] = df.groupby(['year-month'])[['cash_lt']].apply(modified_z)\n",
    "df['cash_ratio_zscore'] = df.groupby(['year-month'])[['cash_ratio']].apply(modified_z)\n",
    "df['cfm_zscore'] = df.groupby(['year-month'])[['cfm']].apply(modified_z)\n",
    "df['curr_debt_zscore'] = df.groupby(['year-month'])[['curr_debt']].apply(modified_z)\n",
    "df['curr_ratio_zscore'] = df.groupby(['year-month'])[['curr_ratio']].apply(modified_z)\n",
    "df['de_ratio_zscore'] = df.groupby(['year-month'])[['de_ratio']].apply(modified_z)\n",
    "df['debt_assets_zscore'] = df.groupby(['year-month'])[['debt_assets']].apply(modified_z)\n",
    "df['debt_at_zscore'] = df.groupby(['year-month'])[['debt_at']].apply(modified_z)\n",
    "df['debt_capital_zscore'] = df.groupby(['year-month'])[['debt_capital']].apply(modified_z)\n",
    "df['debt_ebitda_zscore'] = df.groupby(['year-month'])[['debt_ebitda']].apply(modified_z)\n",
    "df['debt_invcap_zscore'] = df.groupby(['year-month'])[['debt_invcap']].apply(modified_z)\n",
    "df['dltt_be_zscore'] = df.groupby(['year-month'])[['dltt_be']].apply(modified_z)\n",
    "df['dpr_zscore'] = df.groupby(['year-month'])[['dpr']].apply(modified_z)\n",
    "df['efftax_zscore'] = df.groupby(['year-month'])[['efftax']].apply(modified_z)\n",
    "df['equity_invcap_zscore'] = df.groupby(['year-month'])[['equity_invcap']].apply(modified_z)\n",
    "df['evm_zscore'] = df.groupby(['year-month'])[['evm']].apply(modified_z)\n",
    "df['fcf_ocf_zscore'] = df.groupby(['year-month'])[['fcf_ocf']].apply(modified_z)\n",
    "df['gpm_zscore'] = df.groupby(['year-month'])[['gpm']].apply(modified_z)\n",
    "df['GProf_zscore'] = df.groupby(['year-month'])[['GProf']].apply(modified_z)\n",
    "df['int_debt_zscore'] = df.groupby(['year-month'])[['int_debt']].apply(modified_z)\n",
    "df['int_totdebt_zscore'] = df.groupby(['year-month'])[['int_totdebt']].apply(modified_z)\n",
    "df['intcov_zscore'] = df.groupby(['year-month'])[['intcov']].apply(modified_z)\n",
    "df['intcov_ratio_zscore'] = df.groupby(['year-month'])[['intcov_ratio']].apply(modified_z)\n",
    "df['inv_turn_zscore'] = df.groupby(['year-month'])[['inv_turn']].apply(modified_z)\n",
    "df['invt_act_zscore'] = df.groupby(['year-month'])[['invt_act']].apply(modified_z)\n",
    "df['lt_debt_zscore'] = df.groupby(['year-month'])[['lt_debt']].apply(modified_z)\n",
    "df['lt_ppent_zscore'] = df.groupby(['year-month'])[['lt_ppent']].apply(modified_z)\n",
    "df['npm_zscore'] = df.groupby(['year-month'])[['npm']].apply(modified_z)\n",
    "df['ocf_lct_zscore'] = df.groupby(['year-month'])[['ocf_lct']].apply(modified_z)\n",
    "df['opmad_zscore'] = df.groupby(['year-month'])[['opmad']].apply(modified_z)\n",
    "df['opmbd_zscore'] = df.groupby(['year-month'])[['opmbd']].apply(modified_z)\n",
    "df['pay_turn_zscore'] = df.groupby(['year-month'])[['pay_turn']].apply(modified_z)\n",
    "df['pcf_zscore'] = df.groupby(['year-month'])[['pcf']].apply(modified_z)\n",
    "df['pe_exi_zscore'] = df.groupby(['year-month'])[['pe_exi']].apply(modified_z)\n",
    "df['pe_inc_zscore'] = df.groupby(['year-month'])[['pe_inc']].apply(modified_z)\n",
    "df['pe_op_basic_zscore'] = df.groupby(['year-month'])[['pe_op_basic']].apply(modified_z)\n",
    "df['pe_op_dil_zscore'] = df.groupby(['year-month'])[['pe_op_dil']].apply(modified_z)\n",
    "df['PEG_1yrforward_zscore'] = df.groupby(['year-month'])[['PEG_1yrforward']].apply(modified_z)\n",
    "df['PEG_ltgforward_zscore'] = df.groupby(['year-month'])[['PEG_ltgforward']].apply(modified_z)\n",
    "df['PEG_trailing_zscore'] = df.groupby(['year-month'])[['PEG_trailing']].apply(modified_z)\n",
    "df['pretret_earnat_zscore'] = df.groupby(['year-month'])[['pretret_earnat']].apply(modified_z)\n",
    "df['pretret_noa_zscore'] = df.groupby(['year-month'])[['pretret_noa']].apply(modified_z)\n",
    "df['profit_lct_zscore'] = df.groupby(['year-month'])[['profit_lct']].apply(modified_z)\n",
    "df['ps_zscore'] = df.groupby(['year-month'])[['ps']].apply(modified_z)\n",
    "df['ptb_zscore'] = df.groupby(['year-month'])[['ptb']].apply(modified_z)\n",
    "df['ptpm_zscore'] = df.groupby(['year-month'])[['ptpm']].apply(modified_z)\n",
    "df['quick_ratio_zscore'] = df.groupby(['year-month'])[['quick_ratio']].apply(modified_z)\n",
    "df['rd_sale_zscore'] = df.groupby(['year-month'])[['rd_sale']].apply(modified_z)\n",
    "df['rect_act_zscore'] = df.groupby(['year-month'])[['rect_act']].apply(modified_z)\n",
    "df['rect_turn_zscore'] = df.groupby(['year-month'])[['rect_turn']].apply(modified_z)\n",
    "df['roa_zscore'] = df.groupby(['year-month'])[['roa']].apply(modified_z)\n",
    "df['roce_zscore'] = df.groupby(['year-month'])[['roce']].apply(modified_z)\n",
    "df['roe_zscore'] = df.groupby(['year-month'])[['roe']].apply(modified_z)\n",
    "df['sale_equity_zscore'] = df.groupby(['year-month'])[['sale_equity']].apply(modified_z)\n",
    "df['sale_invcap_zscore'] = df.groupby(['year-month'])[['sale_invcap']].apply(modified_z)\n",
    "df['sale_nwc_zscore'] = df.groupby(['year-month'])[['sale_nwc']].apply(modified_z)\n",
    "df['short_debt_zscore'] = df.groupby(['year-month'])[['short_debt']].apply(modified_z)\n",
    "df['staff_sale_zscore'] = df.groupby(['year-month'])[['staff_sale']].apply(modified_z)\n",
    "df['totdebt_invcap_zscore'] = df.groupby(['year-month'])[['totdebt_invcap']].apply(modified_z)\n",
    "df['alpha_zscore'] = df.groupby(['year-month'])[['alpha']].apply(modified_z)\n",
    "df['b_hml_zscore'] = df.groupby(['year-month'])[['b_hml']].apply(modified_z)\n",
    "df['b_mkt_zscore'] = df.groupby(['year-month'])[['b_mkt']].apply(modified_z)\n",
    "df['b_smb_zscore'] = df.groupby(['year-month'])[['b_smb']].apply(modified_z)\n",
    "df['b_umd_zscore'] = df.groupby(['year-month'])[['b_umd']].apply(modified_z)\n",
    "df['exret_zscore'] = df.groupby(['year-month'])[['exret']].apply(modified_z)\n",
    "df['ivol_zscore'] = df.groupby(['year-month'])[['ivol']].apply(modified_z)\n",
    "df['n_zscore'] = df.groupby(['year-month'])[['n']].apply(modified_z)\n",
    "df['R2_zscore'] = df.groupby(['year-month'])[['R2']].apply(modified_z)\n",
    "df['tvol_zscore'] = df.groupby(['year-month'])[['tvol']].apply(modified_z)\n",
    "df['BUYPCT_zscore'] = df.groupby(['year-month'])[['BUYPCT']].apply(modified_z)\n",
    "df['HOLDPCT_zscore'] = df.groupby(['year-month'])[['HOLDPCT']].apply(modified_z)\n",
    "df['MEANREC_zscore'] = df.groupby(['year-month'])[['MEANREC']].apply(modified_z)\n",
    "df['MEDREC_zscore'] = df.groupby(['year-month'])[['MEDREC']].apply(modified_z)\n",
    "df['recup_zscore'] = df.groupby(['year-month'])[['recup']].apply(modified_z)\n",
    "df['recdown_zscore'] = df.groupby(['year-month'])[['recdown']].apply(modified_z)\n",
    "df['SELLPCT_zscore'] = df.groupby(['year-month'])[['SELLPCT']].apply(modified_z)\n",
    "df['STDEV_zscore'] = df.groupby(['year-month'])[['STDEV']].apply(modified_z)"
   ]
  },
  {
   "cell_type": "code",
   "execution_count": null,
   "metadata": {
    "code_folding": [
     0
    ],
    "collapsed": false
   },
   "outputs": [],
   "source": [
    "# df - Enrich - Sector Z-Score\n",
    "df['past_one_month_return_sector_zscore'] = df.groupby(['year-month', 'sector'])[['past_one_month_return']].apply(modified_z)\n",
    "df['past_two_month_return_sector_zscore'] = df.groupby(['year-month', 'sector'])[['past_two_month_return']].apply(modified_z)\n",
    "df['past_three_month_return_sector_zscore'] = df.groupby(['year-month', 'sector'])[['past_three_month_return']].apply(modified_z)\n",
    "df['past_four_month_return_sector_zscore'] = df.groupby(['year-month', 'sector'])[['past_four_month_return']].apply(modified_z)\n",
    "df['past_five_month_return_sector_zscore'] = df.groupby(['year-month', 'sector'])[['past_five_month_return']].apply(modified_z)\n",
    "df['past_six_month_return_sector_zscore'] = df.groupby(['year-month', 'sector'])[['past_six_month_return']].apply(modified_z)\n",
    "df['past_seven_month_return_sector_zscore'] = df.groupby(['year-month', 'sector'])[['past_seven_month_return']].apply(modified_z)\n",
    "df['past_eight_month_return_sector_zscore'] = df.groupby(['year-month', 'sector'])[['past_eight_month_return']].apply(modified_z)\n",
    "df['past_nine_month_return_sector_zscore'] = df.groupby(['year-month', 'sector'])[['past_nine_month_return']].apply(modified_z)\n",
    "df['past_ten_month_return_sector_zscore'] = df.groupby(['year-month', 'sector'])[['past_ten_month_return']].apply(modified_z)\n",
    "df['past_eleven_month_return_sector_zscore'] = df.groupby(['year-month', 'sector'])[['past_eleven_month_return']].apply(modified_z)\n",
    "df['past_twelve_month_return_sector_zscore'] = df.groupby(['year-month', 'sector'])[['past_twelve_month_return']].apply(modified_z)\n",
    "df['past_thirteen_month_return_sector_zscore'] = df.groupby(['year-month', 'sector'])[['past_thirteen_month_return']].apply(modified_z)\n",
    "df['past_fourteen_month_return_sector_zscore'] = df.groupby(['year-month', 'sector'])[['past_fourteen_month_return']].apply(modified_z)\n",
    "df['past_fifteen_month_return_sector_zscore'] = df.groupby(['year-month', 'sector'])[['past_fifteen_month_return']].apply(modified_z)\n",
    "df['past_sixteen_month_return_sector_zscore'] = df.groupby(['year-month', 'sector'])[['past_sixteen_month_return']].apply(modified_z)\n",
    "df['past_seventeen_month_return_sector_zscore'] = df.groupby(['year-month', 'sector'])[['past_seventeen_month_return']].apply(modified_z)\n",
    "df['past_eighteen_month_return_sector_zscore'] = df.groupby(['year-month', 'sector'])[['past_eighteen_month_return']].apply(modified_z)\n",
    "df['past_nineteen_month_return_sector_zscore'] = df.groupby(['year-month', 'sector'])[['past_nineteen_month_return']].apply(modified_z)\n",
    "df['past_twenty_month_return_sector_zscore'] = df.groupby(['year-month', 'sector'])[['past_twenty_month_return']].apply(modified_z)\n",
    "df['past_twentyone_month_return_sector_zscore'] = df.groupby(['year-month', 'sector'])[['past_twentyone_month_return']].apply(modified_z)\n",
    "df['past_twentytwo_month_return_sector_zscore'] = df.groupby(['year-month', 'sector'])[['past_twentytwo_month_return']].apply(modified_z)\n",
    "df['past_twentythree_month_return_sector_zscore'] = df.groupby(['year-month', 'sector'])[['past_twentythree_month_return']].apply(modified_z)\n",
    "df['past_twentyfour_month_return_sector_zscore'] = df.groupby(['year-month', 'sector'])[['past_twentyfour_month_return']].apply(modified_z)\n",
    "df['past_twentyfive_month_return_sector_zscore'] = df.groupby(['year-month', 'sector'])[['past_twentyfive_month_return']].apply(modified_z)\n",
    "df['past_twentysix_month_return_sector_zscore'] = df.groupby(['year-month', 'sector'])[['past_twentysix_month_return']].apply(modified_z)\n",
    "df['past_twentyseven_month_return_sector_zscore'] = df.groupby(['year-month', 'sector'])[['past_twentyseven_month_return']].apply(modified_z)\n",
    "df['past_twentyeight_month_return_sector_zscore'] = df.groupby(['year-month', 'sector'])[['past_twentyeight_month_return']].apply(modified_z)\n",
    "df['past_twentynine_month_return_sector_zscore'] = df.groupby(['year-month', 'sector'])[['past_twentynine_month_return']].apply(modified_z)\n",
    "df['past_thirty_month_return_sector_zscore'] = df.groupby(['year-month', 'sector'])[['past_thirty_month_return']].apply(modified_z)\n",
    "df['past_thirtyone_month_return_sector_zscore'] = df.groupby(['year-month', 'sector'])[['past_thirtyone_month_return']].apply(modified_z)\n",
    "df['past_thirtytwo_month_return_sector_zscore'] = df.groupby(['year-month', 'sector'])[['past_thirtytwo_month_return']].apply(modified_z)\n",
    "df['past_thirtythree_month_return_sector_zscore'] = df.groupby(['year-month', 'sector'])[['past_thirtythree_month_return']].apply(modified_z)\n",
    "df['past_thirtyfour_month_return_sector_zscore'] = df.groupby(['year-month', 'sector'])[['past_thirtyfour_month_return']].apply(modified_z)\n",
    "df['past_thirtyfive_month_return_sector_zscore'] = df.groupby(['year-month', 'sector'])[['past_thirtyfive_month_return']].apply(modified_z)\n",
    "df['past_thirtysix_month_return_sector_zscore'] = df.groupby(['year-month', 'sector'])[['past_thirtysix_month_return']].apply(modified_z)\n",
    "df['accrual_sector_zscore'] = df.groupby(['year-month', 'sector'])[['accrual']].apply(modified_z)\n",
    "df['adv_sale_sector_zscore'] = df.groupby(['year-month', 'sector'])[['adv_sale']].apply(modified_z)\n",
    "df['aftret_eq_sector_zscore'] = df.groupby(['year-month', 'sector'])[['aftret_eq']].apply(modified_z)\n",
    "df['aftret_equity_sector_zscore'] = df.groupby(['year-month', 'sector'])[['aftret_equity']].apply(modified_z)\n",
    "df['aftret_invcapx_sector_zscore'] = df.groupby(['year-month', 'sector'])[['aftret_invcapx']].apply(modified_z)\n",
    "df['at_turn_sector_zscore'] = df.groupby(['year-month', 'sector'])[['at_turn']].apply(modified_z)\n",
    "df['bm_sector_zscore'] = df.groupby(['year-month', 'sector'])[['bm']].apply(modified_z)\n",
    "df['CAPEI_sector_zscore'] = df.groupby(['year-month', 'sector'])[['CAPEI']].apply(modified_z)\n",
    "df['capital_ratio_sector_zscore'] = df.groupby(['year-month', 'sector'])[['capital_ratio']].apply(modified_z)\n",
    "df['cash_conversion_sector_zscore'] = df.groupby(['year-month', 'sector'])[['cash_conversion']].apply(modified_z)\n",
    "df['cash_debt_sector_zscore'] = df.groupby(['year-month', 'sector'])[['cash_debt']].apply(modified_z)\n",
    "df['cash_lt_sector_zscore'] = df.groupby(['year-month', 'sector'])[['cash_lt']].apply(modified_z)\n",
    "df['cash_ratio_sector_zscore'] = df.groupby(['year-month', 'sector'])[['cash_ratio']].apply(modified_z)\n",
    "df['cfm_sector_zscore'] = df.groupby(['year-month', 'sector'])[['cfm']].apply(modified_z)\n",
    "df['curr_debt_sector_zscore'] = df.groupby(['year-month', 'sector'])[['curr_debt']].apply(modified_z)\n",
    "df['curr_ratio_sector_zscore'] = df.groupby(['year-month', 'sector'])[['curr_ratio']].apply(modified_z)\n",
    "df['de_ratio_sector_zscore'] = df.groupby(['year-month', 'sector'])[['de_ratio']].apply(modified_z)\n",
    "df['debt_assets_sector_zscore'] = df.groupby(['year-month', 'sector'])[['debt_assets']].apply(modified_z)\n",
    "df['debt_at_sector_zscore'] = df.groupby(['year-month', 'sector'])[['debt_at']].apply(modified_z)\n",
    "df['debt_capital_sector_zscore'] = df.groupby(['year-month', 'sector'])[['debt_capital']].apply(modified_z)\n",
    "df['debt_ebitda_sector_zscore'] = df.groupby(['year-month', 'sector'])[['debt_ebitda']].apply(modified_z)\n",
    "df['debt_invcap_sector_zscore'] = df.groupby(['year-month', 'sector'])[['debt_invcap']].apply(modified_z)\n",
    "df['dltt_be_sector_zscore'] = df.groupby(['year-month', 'sector'])[['dltt_be']].apply(modified_z)\n",
    "df['dpr_sector_zscore'] = df.groupby(['year-month', 'sector'])[['dpr']].apply(modified_z)\n",
    "df['efftax_sector_zscore'] = df.groupby(['year-month', 'sector'])[['efftax']].apply(modified_z)\n",
    "df['equity_invcap_sector_zscore'] = df.groupby(['year-month', 'sector'])[['equity_invcap']].apply(modified_z)\n",
    "df['evm_sector_zscore'] = df.groupby(['year-month', 'sector'])[['evm']].apply(modified_z)\n",
    "df['fcf_ocf_sector_zscore'] = df.groupby(['year-month', 'sector'])[['fcf_ocf']].apply(modified_z)\n",
    "df['gpm_sector_zscore'] = df.groupby(['year-month', 'sector'])[['gpm']].apply(modified_z)\n",
    "df['GProf_sector_zscore'] = df.groupby(['year-month', 'sector'])[['GProf']].apply(modified_z)\n",
    "df['int_debt_sector_zscore'] = df.groupby(['year-month', 'sector'])[['int_debt']].apply(modified_z)\n",
    "df['int_totdebt_sector_zscore'] = df.groupby(['year-month', 'sector'])[['int_totdebt']].apply(modified_z)\n",
    "df['intcov_sector_zscore'] = df.groupby(['year-month', 'sector'])[['intcov']].apply(modified_z)\n",
    "df['intcov_ratio_sector_zscore'] = df.groupby(['year-month', 'sector'])[['intcov_ratio']].apply(modified_z)\n",
    "df['inv_turn_sector_zscore'] = df.groupby(['year-month', 'sector'])[['inv_turn']].apply(modified_z)\n",
    "df['invt_act_sector_zscore'] = df.groupby(['year-month', 'sector'])[['invt_act']].apply(modified_z)\n",
    "df['lt_debt_sector_zscore'] = df.groupby(['year-month', 'sector'])[['lt_debt']].apply(modified_z)\n",
    "df['lt_ppent_sector_zscore'] = df.groupby(['year-month', 'sector'])[['lt_ppent']].apply(modified_z)\n",
    "df['npm_sector_zscore'] = df.groupby(['year-month', 'sector'])[['npm']].apply(modified_z)\n",
    "df['ocf_lct_sector_zscore'] = df.groupby(['year-month', 'sector'])[['ocf_lct']].apply(modified_z)\n",
    "df['opmad_sector_zscore'] = df.groupby(['year-month', 'sector'])[['opmad']].apply(modified_z)\n",
    "df['opmbd_sector_zscore'] = df.groupby(['year-month', 'sector'])[['opmbd']].apply(modified_z)\n",
    "df['pay_turn_sector_zscore'] = df.groupby(['year-month', 'sector'])[['pay_turn']].apply(modified_z)\n",
    "df['pcf_sector_zscore'] = df.groupby(['year-month', 'sector'])[['pcf']].apply(modified_z)\n",
    "df['pe_exi_sector_zscore'] = df.groupby(['year-month', 'sector'])[['pe_exi']].apply(modified_z)\n",
    "df['pe_inc_sector_zscore'] = df.groupby(['year-month', 'sector'])[['pe_inc']].apply(modified_z)\n",
    "df['pe_op_basic_sector_zscore'] = df.groupby(['year-month', 'sector'])[['pe_op_basic']].apply(modified_z)\n",
    "df['pe_op_dil_sector_zscore'] = df.groupby(['year-month', 'sector'])[['pe_op_dil']].apply(modified_z)\n",
    "df['PEG_1yrforward_sector_zscore'] = df.groupby(['year-month', 'sector'])[['PEG_1yrforward']].apply(modified_z)\n",
    "df['PEG_ltgforward_sector_zscore'] = df.groupby(['year-month', 'sector'])[['PEG_ltgforward']].apply(modified_z)\n",
    "df['PEG_trailing_sector_zscore'] = df.groupby(['year-month', 'sector'])[['PEG_trailing']].apply(modified_z)\n",
    "df['pretret_earnat_sector_zscore'] = df.groupby(['year-month', 'sector'])[['pretret_earnat']].apply(modified_z)\n",
    "df['pretret_noa_sector_zscore'] = df.groupby(['year-month', 'sector'])[['pretret_noa']].apply(modified_z)\n",
    "df['profit_lct_sector_zscore'] = df.groupby(['year-month', 'sector'])[['profit_lct']].apply(modified_z)\n",
    "df['ps_sector_zscore'] = df.groupby(['year-month', 'sector'])[['ps']].apply(modified_z)\n",
    "df['ptb_sector_zscore'] = df.groupby(['year-month', 'sector'])[['ptb']].apply(modified_z)\n",
    "df['ptpm_sector_zscore'] = df.groupby(['year-month', 'sector'])[['ptpm']].apply(modified_z)\n",
    "df['quick_ratio_sector_zscore'] = df.groupby(['year-month', 'sector'])[['quick_ratio']].apply(modified_z)\n",
    "df['rd_sale_sector_zscore'] = df.groupby(['year-month', 'sector'])[['rd_sale']].apply(modified_z)\n",
    "df['rect_act_sector_zscore'] = df.groupby(['year-month', 'sector'])[['rect_act']].apply(modified_z)\n",
    "df['rect_turn_sector_zscore'] = df.groupby(['year-month', 'sector'])[['rect_turn']].apply(modified_z)\n",
    "df['roa_sector_zscore'] = df.groupby(['year-month', 'sector'])[['roa']].apply(modified_z)\n",
    "df['roce_sector_zscore'] = df.groupby(['year-month', 'sector'])[['roce']].apply(modified_z)\n",
    "df['roe_sector_zscore'] = df.groupby(['year-month', 'sector'])[['roe']].apply(modified_z)\n",
    "df['sale_equity_sector_zscore'] = df.groupby(['year-month', 'sector'])[['sale_equity']].apply(modified_z)\n",
    "df['sale_invcap_sector_zscore'] = df.groupby(['year-month', 'sector'])[['sale_invcap']].apply(modified_z)\n",
    "df['sale_nwc_sector_zscore'] = df.groupby(['year-month', 'sector'])[['sale_nwc']].apply(modified_z)\n",
    "df['short_debt_sector_zscore'] = df.groupby(['year-month', 'sector'])[['short_debt']].apply(modified_z)\n",
    "df['staff_sale_sector_zscore'] = df.groupby(['year-month', 'sector'])[['staff_sale']].apply(modified_z)\n",
    "df['totdebt_invcap_sector_zscore'] = df.groupby(['year-month', 'sector'])[['totdebt_invcap']].apply(modified_z)\n",
    "df['alpha_sector_zscore'] = df.groupby(['year-month', 'sector'])[['alpha']].apply(modified_z)\n",
    "df['b_hml_sector_zscore'] = df.groupby(['year-month', 'sector'])[['b_hml']].apply(modified_z)\n",
    "df['b_mkt_sector_zscore'] = df.groupby(['year-month', 'sector'])[['b_mkt']].apply(modified_z)\n",
    "df['b_smb_sector_zscore'] = df.groupby(['year-month', 'sector'])[['b_smb']].apply(modified_z)\n",
    "df['b_umd_sector_zscore'] = df.groupby(['year-month', 'sector'])[['b_umd']].apply(modified_z)\n",
    "df['exret_sector_zscore'] = df.groupby(['year-month', 'sector'])[['exret']].apply(modified_z)\n",
    "df['ivol_sector_zscore'] = df.groupby(['year-month', 'sector'])[['ivol']].apply(modified_z)\n",
    "df['n_sector_zscore'] = df.groupby(['year-month', 'sector'])[['n']].apply(modified_z)\n",
    "df['R2_sector_zscore'] = df.groupby(['year-month', 'sector'])[['R2']].apply(modified_z)\n",
    "df['tvol_sector_zscore'] = df.groupby(['year-month', 'sector'])[['tvol']].apply(modified_z)\n",
    "df['BUYPCT_sector_zscore'] = df.groupby(['year-month', 'sector'])[['BUYPCT']].apply(modified_z)\n",
    "df['HOLDPCT_sector_zscore'] = df.groupby(['year-month', 'sector'])[['HOLDPCT']].apply(modified_z)\n",
    "df['MEANREC_sector_zscore'] = df.groupby(['year-month', 'sector'])[['MEANREC']].apply(modified_z)\n",
    "df['MEDREC_sector_zscore'] = df.groupby(['year-month', 'sector'])[['MEDREC']].apply(modified_z)\n",
    "df['recup_sector_zscore'] = df.groupby(['year-month', 'sector'])[['recup']].apply(modified_z)\n",
    "df['recdown_sector_zscore'] = df.groupby(['year-month', 'sector'])[['recdown']].apply(modified_z)\n",
    "df['SELLPCT_sector_zscore'] = df.groupby(['year-month', 'sector'])[['SELLPCT']].apply(modified_z)\n",
    "df['STDEV_sector_zscore'] = df.groupby(['year-month', 'sector'])[['STDEV']].apply(modified_z)"
   ]
  },
  {
   "cell_type": "code",
   "execution_count": null,
   "metadata": {
    "code_folding": [
     0
    ],
    "collapsed": false
   },
   "outputs": [],
   "source": [
    "# df - Subset - Relevant features with adequate data\n",
    "\n",
    "df = df[[\n",
    "        'GVKEY', \n",
    "        'sector', \n",
    "        'year-month', \n",
    "        'forward_one_month_return', \n",
    "        'forward_two_month_return', \n",
    "        'forward_three_month_return', \n",
    "        'forward_four_month_return', \n",
    "        'forward_five_month_return', \n",
    "        'forward_six_month_return', \n",
    "        'forward_seven_month_return', \n",
    "        'forward_eight_month_return', \n",
    "        'forward_nine_month_return', \n",
    "        'forward_ten_month_return', \n",
    "        'forward_eleven_month_return', \n",
    "        'forward_twelve_month_return', \n",
    "        'forward_thirteen_month_return', \n",
    "        'forward_fourteen_month_return', \n",
    "        'forward_fifteen_month_return', \n",
    "        'forward_sixteen_month_return', \n",
    "        'forward_seventeen_month_return', \n",
    "        'forward_eighteen_month_return', \n",
    "        'forward_nineteen_month_return', \n",
    "        'forward_twenty_month_return', \n",
    "        'forward_twentyone_month_return', \n",
    "        'forward_twentytwo_month_return', \n",
    "        'forward_twentythree_month_return', \n",
    "        'forward_twentyfour_month_return', \n",
    "        'forward_twentyfive_month_return', \n",
    "        'forward_twentysix_month_return', \n",
    "        'forward_twentyseven_month_return', \n",
    "        'forward_twentyeight_month_return', \n",
    "        'forward_twentynine_month_return', \n",
    "        'forward_thirty_month_return', \n",
    "        'forward_thirtyone_month_return', \n",
    "        'forward_thirtytwo_month_return', \n",
    "        'forward_thirtythree_month_return', \n",
    "        'forward_thirtyfour_month_return', \n",
    "        'forward_thirtyfive_month_return', \n",
    "        'forward_thirtysix_month_return', \n",
    "        'january', \n",
    "        'february', \n",
    "        'march', \n",
    "        'april', \n",
    "        'may', \n",
    "        'june', \n",
    "        'july', \n",
    "        'august', \n",
    "        'september', \n",
    "        'october', \n",
    "        'november', \n",
    "        'december', \n",
    "        'past_one_month_return', \n",
    "        'past_two_month_return', \n",
    "        'past_three_month_return', \n",
    "        'past_four_month_return', \n",
    "        'past_five_month_return', \n",
    "        'past_six_month_return', \n",
    "        'past_seven_month_return', \n",
    "        'past_eight_month_return', \n",
    "        'past_nine_month_return', \n",
    "        'past_ten_month_return', \n",
    "        'past_eleven_month_return', \n",
    "        'past_twelve_month_return', \n",
    "        'past_thirteen_month_return', \n",
    "        'past_fourteen_month_return', \n",
    "        'past_fifteen_month_return', \n",
    "        'past_sixteen_month_return', \n",
    "        'past_seventeen_month_return', \n",
    "        'past_eighteen_month_return', \n",
    "        'past_nineteen_month_return', \n",
    "        'past_twenty_month_return', \n",
    "        'past_twentyone_month_return', \n",
    "        'past_twentytwo_month_return', \n",
    "        'past_twentythree_month_return', \n",
    "        'past_twentyfour_month_return', \n",
    "        'past_twentyfive_month_return', \n",
    "        'past_twentysix_month_return', \n",
    "        'past_twentyseven_month_return', \n",
    "        'past_twentyeight_month_return', \n",
    "        'past_twentynine_month_return', \n",
    "        'past_thirty_month_return', \n",
    "        'past_thirtyone_month_return', \n",
    "        'past_thirtytwo_month_return', \n",
    "        'past_thirtythree_month_return', \n",
    "        'past_thirtyfour_month_return', \n",
    "        'past_thirtyfive_month_return', \n",
    "        'past_thirtysix_month_return', \n",
    "        'past_one_month_return_sector_zscore', \n",
    "        'past_one_month_return_zscore', \n",
    "        'past_two_month_return_sector_zscore', \n",
    "        'past_two_month_return_zscore', \n",
    "        'past_three_month_return_sector_zscore', \n",
    "        'past_three_month_return_zscore', \n",
    "        'past_four_month_return_sector_zscore', \n",
    "        'past_four_month_return_zscore', \n",
    "        'past_five_month_return_sector_zscore', \n",
    "        'past_five_month_return_zscore', \n",
    "        'past_six_month_return_sector_zscore', \n",
    "        'past_six_month_return_zscore', \n",
    "        'past_seven_month_return_sector_zscore', \n",
    "        'past_seven_month_return_zscore', \n",
    "        'past_eight_month_return_sector_zscore', \n",
    "        'past_eight_month_return_zscore', \n",
    "        'past_nine_month_return_sector_zscore', \n",
    "        'past_nine_month_return_zscore', \n",
    "        'past_ten_month_return_sector_zscore', \n",
    "        'past_ten_month_return_zscore', \n",
    "        'past_eleven_month_return_sector_zscore', \n",
    "        'past_eleven_month_return_zscore', \n",
    "        'past_twelve_month_return_sector_zscore', \n",
    "        'past_twelve_month_return_zscore', \n",
    "        'past_thirteen_month_return_sector_zscore', \n",
    "        'past_thirteen_month_return_zscore', \n",
    "        'past_fourteen_month_return_sector_zscore', \n",
    "        'past_fourteen_month_return_zscore', \n",
    "        'past_fifteen_month_return_sector_zscore', \n",
    "        'past_fifteen_month_return_zscore', \n",
    "        'past_sixteen_month_return_sector_zscore', \n",
    "        'past_sixteen_month_return_zscore', \n",
    "        'past_seventeen_month_return_sector_zscore', \n",
    "        'past_seventeen_month_return_zscore', \n",
    "        'past_eighteen_month_return_sector_zscore', \n",
    "        'past_eighteen_month_return_zscore', \n",
    "        'past_nineteen_month_return_sector_zscore', \n",
    "        'past_nineteen_month_return_zscore', \n",
    "        'past_twenty_month_return_sector_zscore', \n",
    "        'past_twenty_month_return_zscore', \n",
    "        'past_twentyone_month_return_sector_zscore', \n",
    "        'past_twentyone_month_return_zscore', \n",
    "        'past_twentytwo_month_return_sector_zscore', \n",
    "        'past_twentytwo_month_return_zscore', \n",
    "        'past_twentythree_month_return_sector_zscore', \n",
    "        'past_twentythree_month_return_zscore', \n",
    "        'past_twentyfour_month_return_sector_zscore', \n",
    "        'past_twentyfour_month_return_zscore', \n",
    "        'past_twentyfive_month_return_sector_zscore', \n",
    "        'past_twentyfive_month_return_zscore', \n",
    "        'past_twentysix_month_return_sector_zscore', \n",
    "        'past_twentysix_month_return_zscore', \n",
    "        'past_twentyseven_month_return_sector_zscore', \n",
    "        'past_twentyseven_month_return_zscore', \n",
    "        'past_twentyeight_month_return_sector_zscore', \n",
    "        'past_twentyeight_month_return_zscore', \n",
    "        'past_twentynine_month_return_sector_zscore', \n",
    "        'past_twentynine_month_return_zscore', \n",
    "        'past_thirty_month_return_sector_zscore', \n",
    "        'past_thirty_month_return_zscore', \n",
    "        'past_thirtyone_month_return_sector_zscore', \n",
    "        'past_thirtyone_month_return_zscore', \n",
    "        'past_thirtytwo_month_return_sector_zscore', \n",
    "        'past_thirtytwo_month_return_zscore', \n",
    "        'past_thirtythree_month_return_sector_zscore', \n",
    "        'past_thirtythree_month_return_zscore', \n",
    "        'past_thirtyfour_month_return_sector_zscore', \n",
    "        'past_thirtyfour_month_return_zscore', \n",
    "        'past_thirtyfive_month_return_sector_zscore', \n",
    "        'past_thirtyfive_month_return_zscore', \n",
    "        'past_thirtysix_month_return_sector_zscore', \n",
    "        'past_thirtysix_month_return_zscore', \n",
    "        'accrual_sector_zscore', \n",
    "        'accrual_zscore', \n",
    "        'adv_sale_sector_zscore', \n",
    "        'adv_sale_zscore', \n",
    "        'aftret_eq_sector_zscore', \n",
    "        'aftret_eq_zscore', \n",
    "        'aftret_equity_sector_zscore', \n",
    "        'aftret_equity_zscore', \n",
    "        'aftret_invcapx_sector_zscore', \n",
    "        'aftret_invcapx_zscore', \n",
    "        'alpha_sector_zscore', \n",
    "        'alpha_zscore', \n",
    "        'at_turn_sector_zscore', \n",
    "        'at_turn_zscore', \n",
    "        'b_hml_sector_zscore', \n",
    "        'b_hml_zscore', \n",
    "        'b_mkt_sector_zscore', \n",
    "        'b_mkt_zscore', \n",
    "        'b_smb_sector_zscore', \n",
    "        'b_smb_zscore', \n",
    "        'b_umd_sector_zscore', \n",
    "        'b_umd_zscore', \n",
    "        'bm_sector_zscore', \n",
    "        'bm_zscore', \n",
    "        'BUYPCT_sector_zscore', \n",
    "        'BUYPCT_zscore', \n",
    "        'CAPEI_sector_zscore', \n",
    "        'CAPEI_zscore', \n",
    "        'capital_ratio_sector_zscore', \n",
    "        'capital_ratio_zscore', \n",
    "        'cash_conversion_sector_zscore', \n",
    "        'cash_conversion_zscore', \n",
    "        'cash_debt_sector_zscore', \n",
    "        'cash_debt_zscore', \n",
    "        'cash_lt_sector_zscore', \n",
    "        'cash_lt_zscore', \n",
    "        'cash_ratio_sector_zscore', \n",
    "        'cash_ratio_zscore', \n",
    "        'cfm_sector_zscore', \n",
    "        'cfm_zscore', \n",
    "        'curr_debt_sector_zscore', \n",
    "        'curr_debt_zscore', \n",
    "        'curr_ratio_sector_zscore', \n",
    "        'curr_ratio_zscore', \n",
    "        'de_ratio_sector_zscore', \n",
    "        'de_ratio_zscore', \n",
    "        'debt_assets_sector_zscore', \n",
    "        'debt_assets_zscore', \n",
    "        'debt_at_sector_zscore', \n",
    "        'debt_at_zscore', \n",
    "        'debt_capital_sector_zscore', \n",
    "        'debt_capital_zscore', \n",
    "        'debt_ebitda_sector_zscore', \n",
    "        'debt_ebitda_zscore', \n",
    "        'debt_invcap_sector_zscore', \n",
    "        'debt_invcap_zscore', \n",
    "        'DIVYIELD', \n",
    "        'dltt_be_sector_zscore', \n",
    "        'dltt_be_zscore', \n",
    "        'dpr_sector_zscore', \n",
    "        'dpr_zscore', \n",
    "        'dvpspm', \n",
    "        'dvpsxm', \n",
    "        'dvrate', \n",
    "        'efftax_sector_zscore', \n",
    "        'efftax_zscore', \n",
    "        'equity_invcap_sector_zscore', \n",
    "        'equity_invcap_zscore', \n",
    "        'evm_sector_zscore', \n",
    "        'evm_zscore', \n",
    "        'exret_sector_zscore', \n",
    "        'exret_zscore', \n",
    "        'fcf_ocf_sector_zscore', \n",
    "        'fcf_ocf_zscore', \n",
    "        'gpm_sector_zscore', \n",
    "        'gpm_zscore', \n",
    "        'GProf_sector_zscore', \n",
    "        'GProf_zscore', \n",
    "        'HOLDPCT_sector_zscore', \n",
    "        'HOLDPCT_zscore', \n",
    "        'int_debt_sector_zscore', \n",
    "        'int_debt_zscore', \n",
    "        'int_totdebt_sector_zscore', \n",
    "        'int_totdebt_zscore', \n",
    "        'intcov_ratio_sector_zscore', \n",
    "        'intcov_ratio_zscore', \n",
    "        'intcov_sector_zscore', \n",
    "        'intcov_zscore', \n",
    "        'inv_turn_sector_zscore', \n",
    "        'inv_turn_zscore', \n",
    "        'invt_act_sector_zscore', \n",
    "        'invt_act_zscore', \n",
    "        'ivol_sector_zscore', \n",
    "        'ivol_zscore', \n",
    "        'lt_debt_sector_zscore', \n",
    "        'lt_debt_zscore', \n",
    "        'lt_ppent_sector_zscore', \n",
    "        'lt_ppent_zscore', \n",
    "        'MEANREC_sector_zscore', \n",
    "        'MEANREC_zscore', \n",
    "        'MEDREC_sector_zscore', \n",
    "        'MEDREC_zscore', \n",
    "        'n_sector_zscore', \n",
    "        'n_zscore', \n",
    "        'npm_sector_zscore', \n",
    "        'npm_zscore', \n",
    "        'ocf_lct_sector_zscore', \n",
    "        'ocf_lct_zscore', \n",
    "        'opmad_sector_zscore', \n",
    "        'opmad_zscore', \n",
    "        'opmbd_sector_zscore', \n",
    "        'opmbd_zscore', \n",
    "        'pay_turn_sector_zscore', \n",
    "        'pay_turn_zscore', \n",
    "        'pcf_sector_zscore', \n",
    "        'pcf_zscore', \n",
    "        'pe_exi_sector_zscore', \n",
    "        'pe_exi_zscore', \n",
    "        'pe_inc_sector_zscore', \n",
    "        'pe_inc_zscore', \n",
    "        'pe_op_basic_sector_zscore', \n",
    "        'pe_op_basic_zscore', \n",
    "        'pe_op_dil_sector_zscore', \n",
    "        'pe_op_dil_zscore', \n",
    "        'PEG_1yrforward_sector_zscore', \n",
    "        'PEG_1yrforward_zscore', \n",
    "        'PEG_ltgforward_sector_zscore', \n",
    "        'PEG_ltgforward_zscore', \n",
    "        'PEG_trailing_sector_zscore', \n",
    "        'PEG_trailing_zscore', \n",
    "        'pretret_earnat_sector_zscore', \n",
    "        'pretret_earnat_zscore', \n",
    "        'pretret_noa_sector_zscore', \n",
    "        'pretret_noa_zscore', \n",
    "        'profit_lct_sector_zscore', \n",
    "        'profit_lct_zscore', \n",
    "        'ps_sector_zscore', \n",
    "        'ps_zscore', \n",
    "        'ptb_sector_zscore', \n",
    "        'ptb_zscore', \n",
    "        'ptpm_sector_zscore', \n",
    "        'ptpm_zscore', \n",
    "        'quick_ratio_sector_zscore', \n",
    "        'quick_ratio_zscore', \n",
    "        'R2_sector_zscore', \n",
    "        'R2_zscore', \n",
    "        'rd_sale_sector_zscore', \n",
    "        'rd_sale_zscore', \n",
    "        'recdown_sector_zscore', \n",
    "        'recdown_zscore', \n",
    "        'rect_act_sector_zscore', \n",
    "        'rect_act_zscore', \n",
    "        'rect_turn_sector_zscore', \n",
    "        'rect_turn_zscore', \n",
    "        'recup_sector_zscore', \n",
    "        'recup_zscore', \n",
    "        'roa_sector_zscore', \n",
    "        'roa_zscore', \n",
    "        'roce_sector_zscore', \n",
    "        'roce_zscore', \n",
    "        'roe_sector_zscore', \n",
    "        'roe_zscore', \n",
    "        'sale_equity_sector_zscore', \n",
    "        'sale_equity_zscore', \n",
    "        'sale_invcap_sector_zscore', \n",
    "        'sale_invcap_zscore', \n",
    "        'sale_nwc_sector_zscore', \n",
    "        'sale_nwc_zscore', \n",
    "        'SELLPCT_sector_zscore', \n",
    "        'SELLPCT_zscore', \n",
    "        'short_debt_sector_zscore', \n",
    "        'short_debt_zscore', \n",
    "        'spcsrc',\n",
    "        'staff_sale_sector_zscore', \n",
    "        'staff_sale_zscore', \n",
    "        'STDEV_sector_zscore', \n",
    "        'STDEV_zscore', \n",
    "        'totdebt_invcap_sector_zscore', \n",
    "        'totdebt_invcap_zscore', \n",
    "        'tvol_sector_zscore', \n",
    "        'tvol_zscore'\n",
    "        ]]"
   ]
  },
  {
   "cell_type": "code",
   "execution_count": null,
   "metadata": {
    "code_folding": [
     0
    ],
    "collapsed": true
   },
   "outputs": [],
   "source": [
    "y = df[[\n",
    "            'forward_one_month_return', \n",
    "            'forward_two_month_return', \n",
    "            'forward_three_month_return', \n",
    "            'forward_four_month_return', \n",
    "            'forward_five_month_return', \n",
    "            'forward_six_month_return', \n",
    "            'forward_seven_month_return', \n",
    "            'forward_eight_month_return', \n",
    "            'forward_nine_month_return', \n",
    "            'forward_ten_month_return', \n",
    "            'forward_eleven_month_return', \n",
    "            'forward_twelve_month_return', \n",
    "            'forward_thirteen_month_return', \n",
    "            'forward_fourteen_month_return', \n",
    "            'forward_fifteen_month_return', \n",
    "            'forward_sixteen_month_return', \n",
    "            'forward_seventeen_month_return', \n",
    "            'forward_eighteen_month_return', \n",
    "            'forward_nineteen_month_return', \n",
    "            'forward_twenty_month_return', \n",
    "            'forward_twentyone_month_return', \n",
    "            'forward_twentytwo_month_return', \n",
    "            'forward_twentythree_month_return', \n",
    "            'forward_twentyfour_month_return', \n",
    "            'forward_twentyfive_month_return', \n",
    "            'forward_twentysix_month_return', \n",
    "            'forward_twentyseven_month_return', \n",
    "            'forward_twentyeight_month_return', \n",
    "            'forward_twentynine_month_return', \n",
    "            'forward_thirty_month_return', \n",
    "            'forward_thirtyone_month_return', \n",
    "            'forward_thirtytwo_month_return', \n",
    "            'forward_thirtythree_month_return', \n",
    "            'forward_thirtyfour_month_return', \n",
    "            'forward_thirtyfive_month_return', \n",
    "            'forward_thirtysix_month_return',\n",
    "            ]]"
   ]
  },
  {
   "cell_type": "code",
   "execution_count": null,
   "metadata": {
    "code_folding": [
     0
    ],
    "collapsed": false
   },
   "outputs": [],
   "source": [
    "months = df[[\n",
    "        'january', \n",
    "        'february', \n",
    "        'march', \n",
    "        'april', \n",
    "        'may', \n",
    "        'june', \n",
    "        'july', \n",
    "        'august', \n",
    "        'september', \n",
    "        'october', \n",
    "        'november', \n",
    "        'december'\n",
    "            ]]"
   ]
  },
  {
   "cell_type": "code",
   "execution_count": null,
   "metadata": {
    "code_folding": [
     0
    ],
    "collapsed": true
   },
   "outputs": [],
   "source": [
    "metric = df[[\n",
    "        'past_one_month_return', \n",
    "        'past_two_month_return', \n",
    "        'past_three_month_return', \n",
    "        'past_four_month_return', \n",
    "        'past_five_month_return', \n",
    "        'past_six_month_return', \n",
    "        'past_seven_month_return', \n",
    "        'past_eight_month_return', \n",
    "        'past_nine_month_return', \n",
    "        'past_ten_month_return', \n",
    "        'past_eleven_month_return', \n",
    "        'past_twelve_month_return', \n",
    "        'past_thirteen_month_return', \n",
    "        'past_fourteen_month_return', \n",
    "        'past_fifteen_month_return', \n",
    "        'past_sixteen_month_return', \n",
    "        'past_seventeen_month_return', \n",
    "        'past_eighteen_month_return', \n",
    "        'past_nineteen_month_return', \n",
    "        'past_twenty_month_return', \n",
    "        'past_twentyone_month_return', \n",
    "        'past_twentytwo_month_return', \n",
    "        'past_twentythree_month_return', \n",
    "        'past_twentyfour_month_return', \n",
    "        'past_twentyfive_month_return', \n",
    "        'past_twentysix_month_return', \n",
    "        'past_twentyseven_month_return', \n",
    "        'past_twentyeight_month_return', \n",
    "        'past_twentynine_month_return', \n",
    "        'past_thirty_month_return', \n",
    "        'past_thirtyone_month_return', \n",
    "        'past_thirtytwo_month_return', \n",
    "        'past_thirtythree_month_return', \n",
    "        'past_thirtyfour_month_return', \n",
    "        'past_thirtyfive_month_return', \n",
    "        'past_thirtysix_month_return', \n",
    "        'past_one_month_return_sector_zscore', \n",
    "        'past_one_month_return_zscore', \n",
    "        'past_two_month_return_sector_zscore', \n",
    "        'past_two_month_return_zscore', \n",
    "        'past_three_month_return_sector_zscore', \n",
    "        'past_three_month_return_zscore', \n",
    "        'past_four_month_return_sector_zscore', \n",
    "        'past_four_month_return_zscore', \n",
    "        'past_five_month_return_sector_zscore', \n",
    "        'past_five_month_return_zscore', \n",
    "        'past_six_month_return_sector_zscore', \n",
    "        'past_six_month_return_zscore', \n",
    "        'past_seven_month_return_sector_zscore', \n",
    "        'past_seven_month_return_zscore', \n",
    "        'past_eight_month_return_sector_zscore', \n",
    "        'past_eight_month_return_zscore', \n",
    "        'past_nine_month_return_sector_zscore', \n",
    "        'past_nine_month_return_zscore', \n",
    "        'past_ten_month_return_sector_zscore', \n",
    "        'past_ten_month_return_zscore', \n",
    "        'past_eleven_month_return_sector_zscore', \n",
    "        'past_eleven_month_return_zscore', \n",
    "        'past_twelve_month_return_sector_zscore', \n",
    "        'past_twelve_month_return_zscore', \n",
    "        'past_thirteen_month_return_sector_zscore', \n",
    "        'past_thirteen_month_return_zscore', \n",
    "        'past_fourteen_month_return_sector_zscore', \n",
    "        'past_fourteen_month_return_zscore', \n",
    "        'past_fifteen_month_return_sector_zscore', \n",
    "        'past_fifteen_month_return_zscore', \n",
    "        'past_sixteen_month_return_sector_zscore', \n",
    "        'past_sixteen_month_return_zscore', \n",
    "        'past_seventeen_month_return_sector_zscore', \n",
    "        'past_seventeen_month_return_zscore', \n",
    "        'past_eighteen_month_return_sector_zscore', \n",
    "        'past_eighteen_month_return_zscore', \n",
    "        'past_nineteen_month_return_sector_zscore', \n",
    "        'past_nineteen_month_return_zscore', \n",
    "        'past_twenty_month_return_sector_zscore', \n",
    "        'past_twenty_month_return_zscore', \n",
    "        'past_twentyone_month_return_sector_zscore', \n",
    "        'past_twentyone_month_return_zscore', \n",
    "        'past_twentytwo_month_return_sector_zscore', \n",
    "        'past_twentytwo_month_return_zscore', \n",
    "        'past_twentythree_month_return_sector_zscore', \n",
    "        'past_twentythree_month_return_zscore', \n",
    "        'past_twentyfour_month_return_sector_zscore', \n",
    "        'past_twentyfour_month_return_zscore', \n",
    "        'past_twentyfive_month_return_sector_zscore', \n",
    "        'past_twentyfive_month_return_zscore', \n",
    "        'past_twentysix_month_return_sector_zscore', \n",
    "        'past_twentysix_month_return_zscore', \n",
    "        'past_twentyseven_month_return_sector_zscore', \n",
    "        'past_twentyseven_month_return_zscore', \n",
    "        'past_twentyeight_month_return_sector_zscore', \n",
    "        'past_twentyeight_month_return_zscore', \n",
    "        'past_twentynine_month_return_sector_zscore', \n",
    "        'past_twentynine_month_return_zscore', \n",
    "        'past_thirty_month_return_sector_zscore', \n",
    "        'past_thirty_month_return_zscore', \n",
    "        'past_thirtyone_month_return_sector_zscore', \n",
    "        'past_thirtyone_month_return_zscore', \n",
    "        'past_thirtytwo_month_return_sector_zscore', \n",
    "        'past_thirtytwo_month_return_zscore', \n",
    "        'past_thirtythree_month_return_sector_zscore', \n",
    "        'past_thirtythree_month_return_zscore', \n",
    "        'past_thirtyfour_month_return_sector_zscore', \n",
    "        'past_thirtyfour_month_return_zscore', \n",
    "        'past_thirtyfive_month_return_sector_zscore', \n",
    "        'past_thirtyfive_month_return_zscore', \n",
    "        'past_thirtysix_month_return_sector_zscore', \n",
    "        'past_thirtysix_month_return_zscore', \n",
    "        'accrual_sector_zscore', \n",
    "        'accrual_zscore', \n",
    "        'adv_sale_sector_zscore', \n",
    "        'adv_sale_zscore', \n",
    "        'aftret_eq_sector_zscore', \n",
    "        'aftret_eq_zscore', \n",
    "        'aftret_equity_sector_zscore', \n",
    "        'aftret_equity_zscore', \n",
    "        'aftret_invcapx_sector_zscore', \n",
    "        'aftret_invcapx_zscore', \n",
    "        'alpha_sector_zscore', \n",
    "        'alpha_zscore', \n",
    "        'at_turn_sector_zscore', \n",
    "        'at_turn_zscore', \n",
    "        'b_hml_sector_zscore', \n",
    "        'b_hml_zscore', \n",
    "        'b_mkt_sector_zscore', \n",
    "        'b_mkt_zscore', \n",
    "        'b_smb_sector_zscore', \n",
    "        'b_smb_zscore', \n",
    "        'b_umd_sector_zscore', \n",
    "        'b_umd_zscore', \n",
    "        'bm_sector_zscore', \n",
    "        'bm_zscore', \n",
    "        'BUYPCT_sector_zscore', \n",
    "        'BUYPCT_zscore', \n",
    "        'CAPEI_sector_zscore', \n",
    "        'CAPEI_zscore', \n",
    "        'capital_ratio_sector_zscore', \n",
    "        'capital_ratio_zscore', \n",
    "        'cash_conversion_sector_zscore', \n",
    "        'cash_conversion_zscore', \n",
    "        'cash_debt_sector_zscore', \n",
    "        'cash_debt_zscore', \n",
    "        'cash_lt_sector_zscore', \n",
    "        'cash_lt_zscore', \n",
    "        'cash_ratio_sector_zscore', \n",
    "        'cash_ratio_zscore', \n",
    "        'cfm_sector_zscore', \n",
    "        'cfm_zscore', \n",
    "        'curr_debt_sector_zscore', \n",
    "        'curr_debt_zscore', \n",
    "        'curr_ratio_sector_zscore', \n",
    "        'curr_ratio_zscore', \n",
    "        'de_ratio_sector_zscore', \n",
    "        'de_ratio_zscore', \n",
    "        'debt_assets_sector_zscore', \n",
    "        'debt_assets_zscore', \n",
    "        'debt_at_sector_zscore', \n",
    "        'debt_at_zscore', \n",
    "        'debt_capital_sector_zscore', \n",
    "        'debt_capital_zscore', \n",
    "        'debt_ebitda_sector_zscore', \n",
    "        'debt_ebitda_zscore', \n",
    "        'debt_invcap_sector_zscore', \n",
    "        'debt_invcap_zscore', \n",
    "        'DIVYIELD', \n",
    "        'dltt_be_sector_zscore', \n",
    "        'dltt_be_zscore', \n",
    "        'dpr_sector_zscore', \n",
    "        'dpr_zscore', \n",
    "        'dvpspm', \n",
    "        'dvpsxm', \n",
    "        'dvrate', \n",
    "        'efftax_sector_zscore', \n",
    "        'efftax_zscore', \n",
    "        'equity_invcap_sector_zscore', \n",
    "        'equity_invcap_zscore', \n",
    "        'evm_sector_zscore', \n",
    "        'evm_zscore', \n",
    "        'exret_sector_zscore', \n",
    "        'exret_zscore', \n",
    "        'fcf_ocf_sector_zscore', \n",
    "        'fcf_ocf_zscore', \n",
    "        'gpm_sector_zscore', \n",
    "        'gpm_zscore', \n",
    "        'GProf_sector_zscore', \n",
    "        'GProf_zscore', \n",
    "        'HOLDPCT_sector_zscore', \n",
    "        'HOLDPCT_zscore', \n",
    "        'int_debt_sector_zscore', \n",
    "        'int_debt_zscore', \n",
    "        'int_totdebt_sector_zscore', \n",
    "        'int_totdebt_zscore', \n",
    "        'intcov_ratio_sector_zscore', \n",
    "        'intcov_ratio_zscore', \n",
    "        'intcov_sector_zscore', \n",
    "        'intcov_zscore', \n",
    "        'inv_turn_sector_zscore', \n",
    "        'inv_turn_zscore', \n",
    "        'invt_act_sector_zscore', \n",
    "        'invt_act_zscore', \n",
    "        'ivol_sector_zscore', \n",
    "        'ivol_zscore', \n",
    "        'lt_debt_sector_zscore', \n",
    "        'lt_debt_zscore', \n",
    "        'lt_ppent_sector_zscore', \n",
    "        'lt_ppent_zscore', \n",
    "        'MEANREC_sector_zscore', \n",
    "        'MEANREC_zscore', \n",
    "        'MEDREC_sector_zscore', \n",
    "        'MEDREC_zscore', \n",
    "        'n_sector_zscore', \n",
    "        'n_zscore', \n",
    "        'npm_sector_zscore', \n",
    "        'npm_zscore', \n",
    "        'ocf_lct_sector_zscore', \n",
    "        'ocf_lct_zscore', \n",
    "        'opmad_sector_zscore', \n",
    "        'opmad_zscore', \n",
    "        'opmbd_sector_zscore', \n",
    "        'opmbd_zscore', \n",
    "        'pay_turn_sector_zscore', \n",
    "        'pay_turn_zscore', \n",
    "        'pcf_sector_zscore', \n",
    "        'pcf_zscore', \n",
    "        'pe_exi_sector_zscore', \n",
    "        'pe_exi_zscore', \n",
    "        'pe_inc_sector_zscore', \n",
    "        'pe_inc_zscore', \n",
    "        'pe_op_basic_sector_zscore', \n",
    "        'pe_op_basic_zscore', \n",
    "        'pe_op_dil_sector_zscore', \n",
    "        'pe_op_dil_zscore', \n",
    "        'PEG_1yrforward_sector_zscore', \n",
    "        'PEG_1yrforward_zscore', \n",
    "        'PEG_ltgforward_sector_zscore', \n",
    "        'PEG_ltgforward_zscore', \n",
    "        'PEG_trailing_sector_zscore', \n",
    "        'PEG_trailing_zscore', \n",
    "        'pretret_earnat_sector_zscore', \n",
    "        'pretret_earnat_zscore', \n",
    "        'pretret_noa_sector_zscore', \n",
    "        'pretret_noa_zscore', \n",
    "        'profit_lct_sector_zscore', \n",
    "        'profit_lct_zscore', \n",
    "        'ps_sector_zscore', \n",
    "        'ps_zscore', \n",
    "        'ptb_sector_zscore', \n",
    "        'ptb_zscore', \n",
    "        'ptpm_sector_zscore', \n",
    "        'ptpm_zscore', \n",
    "        'quick_ratio_sector_zscore', \n",
    "        'quick_ratio_zscore', \n",
    "        'R2_sector_zscore', \n",
    "        'R2_zscore', \n",
    "        'rd_sale_sector_zscore', \n",
    "        'rd_sale_zscore', \n",
    "        'recdown_sector_zscore', \n",
    "        'recdown_zscore', \n",
    "        'rect_act_sector_zscore', \n",
    "        'rect_act_zscore', \n",
    "        'rect_turn_sector_zscore', \n",
    "        'rect_turn_zscore', \n",
    "        'recup_sector_zscore', \n",
    "        'recup_zscore', \n",
    "        'roa_sector_zscore', \n",
    "        'roa_zscore', \n",
    "        'roce_sector_zscore', \n",
    "        'roce_zscore', \n",
    "        'roe_sector_zscore', \n",
    "        'roe_zscore', \n",
    "        'sale_equity_sector_zscore', \n",
    "        'sale_equity_zscore', \n",
    "        'sale_invcap_sector_zscore', \n",
    "        'sale_invcap_zscore', \n",
    "        'sale_nwc_sector_zscore', \n",
    "        'sale_nwc_zscore', \n",
    "        'SELLPCT_sector_zscore', \n",
    "        'SELLPCT_zscore', \n",
    "        'short_debt_sector_zscore', \n",
    "        'short_debt_zscore', \n",
    "        'spcsrc', \n",
    "        'staff_sale_sector_zscore', \n",
    "        'staff_sale_zscore', \n",
    "        'STDEV_sector_zscore', \n",
    "        'STDEV_zscore', \n",
    "        'totdebt_invcap_sector_zscore', \n",
    "        'totdebt_invcap_zscore', \n",
    "        'tvol_sector_zscore', \n",
    "        'tvol_zscore'\n",
    "        ]]"
   ]
  },
  {
   "cell_type": "code",
   "execution_count": null,
   "metadata": {
    "code_folding": [],
    "collapsed": false
   },
   "outputs": [],
   "source": [
    "# metric - Subset - Numeric Columns\n",
    "metric_numerics = metric.select_dtypes(include=[np.float]).columns"
   ]
  },
  {
   "cell_type": "code",
   "execution_count": null,
   "metadata": {
    "collapsed": false
   },
   "outputs": [],
   "source": [
    "metric = metric[metric_numerics].apply(clip_outliers)"
   ]
  },
  {
   "cell_type": "code",
   "execution_count": null,
   "metadata": {
    "code_folding": [],
    "collapsed": false
   },
   "outputs": [],
   "source": [
    "metric = metric[metric_numerics].apply(fill_null)"
   ]
  },
  {
   "cell_type": "code",
   "execution_count": null,
   "metadata": {
    "code_folding": [],
    "collapsed": true
   },
   "outputs": [],
   "source": [
    "X = pd.concat([metric, months], axis=1)"
   ]
  },
  {
   "cell_type": "code",
   "execution_count": null,
   "metadata": {
    "collapsed": false
   },
   "outputs": [],
   "source": [
    "return_all_rows(df.describe().transpose())"
   ]
  },
  {
   "cell_type": "code",
   "execution_count": null,
   "metadata": {
    "collapsed": true
   },
   "outputs": [],
   "source": [
    "from scipy.stats.stats import pearsonr"
   ]
  },
  {
   "cell_type": "code",
   "execution_count": null,
   "metadata": {
    "collapsed": false
   },
   "outputs": [],
   "source": [
    "feature = []\n",
    "correlation = []\n",
    "correlation_direction = []\n",
    "significance = []\n",
    "\n",
    "for column in df:\n",
    "    pair = pearsonr(dependent['forward_one_month_return'], df[column])\n",
    "    feature.append(column)\n",
    "    correlation.append(abs(pair[0]))\n",
    "    correlation_direction.append(pair[0])\n",
    "    significance.append(pair[1])\n",
    "    \n",
    "review = pd.DataFrame()\n",
    "review['feature'] = feature\n",
    "review['correlation'] = correlation\n",
    "review['correlation_direction'] = correlation_direction\n",
    "review['significance'] = significance\n",
    "\n",
    "# review - Sort - Correlation\n",
    "review = review.sort_values(by=['correlation'], ascending=0)"
   ]
  },
  {
   "cell_type": "code",
   "execution_count": null,
   "metadata": {
    "collapsed": false
   },
   "outputs": [],
   "source": [
    "review"
   ]
  },
  {
   "cell_type": "code",
   "execution_count": null,
   "metadata": {
    "collapsed": false
   },
   "outputs": [],
   "source": [
    "# dependent_binary = dependent[dependent < 0] = 0 and dependent[dependent >= 0] = 1"
   ]
  },
  {
   "cell_type": "code",
   "execution_count": null,
   "metadata": {
    "collapsed": true
   },
   "outputs": [],
   "source": []
  }
 ],
 "metadata": {
  "anaconda-cloud": {},
  "kernelspec": {
   "display_name": "Python 3",
   "language": "python",
   "name": "python3"
  },
  "language_info": {
   "codemirror_mode": {
    "name": "ipython",
    "version": 3
   },
   "file_extension": ".py",
   "mimetype": "text/x-python",
   "name": "python",
   "nbconvert_exporter": "python",
   "pygments_lexer": "ipython3",
   "version": "3.6.0"
  }
 },
 "nbformat": 4,
 "nbformat_minor": 0
}
